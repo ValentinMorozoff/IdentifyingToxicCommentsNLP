{
 "cells": [
  {
   "cell_type": "markdown",
   "metadata": {
    "id": "DD2TkLmqAcJo",
    "toc": true
   },
   "source": [
    "<h1>Содержание<span class=\"tocSkip\"></span></h1>\n",
    "<div class=\"toc\"><ul class=\"toc-item\"><li><span><a href=\"#Загрузка-фреймворков\" data-toc-modified-id=\"Загрузка-фреймворков-1\"><span class=\"toc-item-num\">1&nbsp;&nbsp;</span>Загрузка фреймворков</a></span></li><li><span><a href=\"#Импорты\" data-toc-modified-id=\"Импорты-2\"><span class=\"toc-item-num\">2&nbsp;&nbsp;</span>Импорты</a></span></li><li><span><a href=\"#Чтение-данных\" data-toc-modified-id=\"Чтение-данных-3\"><span class=\"toc-item-num\">3&nbsp;&nbsp;</span>Чтение данных</a></span></li><li><span><a href=\"#Подготовка-текста\" data-toc-modified-id=\"Подготовка-текста-4\"><span class=\"toc-item-num\">4&nbsp;&nbsp;</span>Подготовка текста</a></span><ul class=\"toc-item\"><li><span><a href=\"#Лемматизация\" data-toc-modified-id=\"Лемматизация-4.1\"><span class=\"toc-item-num\">4.1&nbsp;&nbsp;</span>Лемматизация</a></span></li><li><span><a href=\"#Частотный-анализ-текста\" data-toc-modified-id=\"Частотный-анализ-текста-4.2\"><span class=\"toc-item-num\">4.2&nbsp;&nbsp;</span>Частотный анализ текста</a></span></li><li><span><a href=\"#&quot;Облако-слов&quot;\" data-toc-modified-id=\"&quot;Облако-слов&quot;-4.3\"><span class=\"toc-item-num\">4.3&nbsp;&nbsp;</span>\"Облако слов\"</a></span></li><li><span><a href=\"#Баланс-классов\" data-toc-modified-id=\"Баланс-классов-4.4\"><span class=\"toc-item-num\">4.4&nbsp;&nbsp;</span>Баланс классов</a></span></li></ul></li><li><span><a href=\"#Пайплан-векторизации-признаков,-подбора-гиперпараметров-и-валидации-модели-логистической-регрессии\" data-toc-modified-id=\"Пайплан-векторизации-признаков,-подбора-гиперпараметров-и-валидации-модели-логистической-регрессии-5\"><span class=\"toc-item-num\">5&nbsp;&nbsp;</span>Пайплан векторизации признаков, подбора гиперпараметров и валидации модели логистической регрессии</a></span></li><li><span><a href=\"#Обучение-модели-логистической-регрессии\" data-toc-modified-id=\"Обучение-модели-логистической-регрессии-6\"><span class=\"toc-item-num\">6&nbsp;&nbsp;</span>Обучение модели логистической регрессии</a></span><ul class=\"toc-item\"><li><span><a href=\"#Признаки---BOW\" data-toc-modified-id=\"Признаки---BOW-6.1\"><span class=\"toc-item-num\">6.1&nbsp;&nbsp;</span>Признаки - BOW</a></span></li><li><span><a href=\"#Признаки---TF-IDF\" data-toc-modified-id=\"Признаки---TF-IDF-6.2\"><span class=\"toc-item-num\">6.2&nbsp;&nbsp;</span>Признаки - TF-IDF</a></span></li></ul></li><li><span><a href=\"#Оценка-качества-модели-логистической-регрессии\" data-toc-modified-id=\"Оценка-качества-модели-логистической-регрессии-7\"><span class=\"toc-item-num\">7&nbsp;&nbsp;</span>Оценка качества модели логистической регрессии</a></span></li><li><span><a href=\"#Пайплaйн-векторизации-признаков,-обучения-и-валидации-модели,-на-основе-градиентного-бустинга\" data-toc-modified-id=\"Пайплaйн-векторизации-признаков,-обучения-и-валидации-модели,-на-основе-градиентного-бустинга-8\"><span class=\"toc-item-num\">8&nbsp;&nbsp;</span>Пайплaйн векторизации признаков, обучения и валидации модели, на основе градиентного бустинга</a></span></li><li><span><a href=\"#Обучение-модели,-на-основе-градиентного-бустинга\" data-toc-modified-id=\"Обучение-модели,-на-основе-градиентного-бустинга-9\"><span class=\"toc-item-num\">9&nbsp;&nbsp;</span>Обучение модели, на основе градиентного бустинга</a></span><ul class=\"toc-item\"><li><span><a href=\"#Признаки---BOW\" data-toc-modified-id=\"Признаки---BOW-9.1\"><span class=\"toc-item-num\">9.1&nbsp;&nbsp;</span>Признаки - BOW</a></span></li><li><span><a href=\"#Признаки----TF-IDF\" data-toc-modified-id=\"Признаки----TF-IDF-9.2\"><span class=\"toc-item-num\">9.2&nbsp;&nbsp;</span>Признаки -  TF-IDF</a></span></li></ul></li><li><span><a href=\"#Оценка-качества-модели,-на-основе-градиентного-бустинга\" data-toc-modified-id=\"Оценка-качества-модели,-на-основе-градиентного-бустинга-10\"><span class=\"toc-item-num\">10&nbsp;&nbsp;</span>Оценка качества модели, на основе градиентного бустинга</a></span></li><li><span><a href=\"#BERT\" data-toc-modified-id=\"BERT-11\"><span class=\"toc-item-num\">11&nbsp;&nbsp;</span>BERT</a></span><ul class=\"toc-item\"><li><span><a href=\"#Получение-признаков-из-текста\" data-toc-modified-id=\"Получение-признаков-из-текста-11.1\"><span class=\"toc-item-num\">11.1&nbsp;&nbsp;</span>Получение признаков из текста</a></span></li><li><span><a href=\"#Пайплайн-векторизации,-обучения-и-валидации-моделей\" data-toc-modified-id=\"Пайплайн-векторизации,-обучения-и-валидации-моделей-11.2\"><span class=\"toc-item-num\">11.2&nbsp;&nbsp;</span>Пайплайн векторизации, обучения и валидации моделей</a></span></li><li><span><a href=\"#Обучение-моделей\" data-toc-modified-id=\"Обучение-моделей-11.3\"><span class=\"toc-item-num\">11.3&nbsp;&nbsp;</span>Обучение моделей</a></span><ul class=\"toc-item\"><li><span><a href=\"#Логистическая-регрессия,-признаки---BERT\" data-toc-modified-id=\"Логистическая-регрессия,-признаки---BERT-11.3.1\"><span class=\"toc-item-num\">11.3.1&nbsp;&nbsp;</span>Логистическая регрессия, признаки - BERT</a></span></li><li><span><a href=\"#Модель-на-основе-градиентного-бустинга,-признаки---BERT\" data-toc-modified-id=\"Модель-на-основе-градиентного-бустинга,-признаки---BERT-11.3.2\"><span class=\"toc-item-num\">11.3.2&nbsp;&nbsp;</span>Модель на основе градиентного бустинга, признаки - BERT</a></span></li></ul></li><li><span><a href=\"#Оценка-качества-моделей\" data-toc-modified-id=\"Оценка-качества-моделей-11.4\"><span class=\"toc-item-num\">11.4&nbsp;&nbsp;</span>Оценка качества моделей</a></span></li></ul></li><li><span><a href=\"#Тестирование-оптимальной-модели\" data-toc-modified-id=\"Тестирование-оптимальной-модели-12\"><span class=\"toc-item-num\">12&nbsp;&nbsp;</span>Тестирование оптимальной модели</a></span></li><li><span><a href=\"#Выводы\" data-toc-modified-id=\"Выводы-13\"><span class=\"toc-item-num\">13&nbsp;&nbsp;</span>Выводы</a></span></li></ul></div>"
   ]
  },
  {
   "cell_type": "markdown",
   "metadata": {
    "id": "NG8j2EsAgDTB"
   },
   "source": [
    "# Проект для «Викишоп»"
   ]
  },
  {
   "cell_type": "markdown",
   "metadata": {
    "id": "fDJw99QAgDTB"
   },
   "source": [
    "Интернет-магазин «Викишоп» запускает новый сервис. Теперь пользователи могут редактировать и дополнять описания товаров, как в вики-сообществах. То есть клиенты предлагают свои правки и комментируют изменения других. Магазину нужен инструмент, который будет искать токсичные комментарии и отправлять их на модерацию. \n",
    "\n",
    "Необходимо обучить модель классифицировать комментарии на позитивные и негативные. В распоряжении имеется набор данных с разметкой о токсичности правок.\n",
    "\n",
    "Требуется построить модель со значением метрики качества F1 не меньше 0.75. "
   ]
  },
  {
   "cell_type": "markdown",
   "metadata": {
    "id": "LC49KXZQgDTB"
   },
   "source": [
    "## Загрузка фреймворков"
   ]
  },
  {
   "cell_type": "code",
   "execution_count": 1,
   "metadata": {
    "id": "zJ7iMHxzhenp"
   },
   "outputs": [],
   "source": [
    "!pip install -q nltk"
   ]
  },
  {
   "cell_type": "code",
   "execution_count": 2,
   "metadata": {
    "colab": {
     "base_uri": "https://localhost:8080/"
    },
    "id": "IqKniMHXtw9g",
    "outputId": "86c01be7-2d57-4b9b-fda4-f978f2a32141"
   },
   "outputs": [
    {
     "name": "stdout",
     "output_type": "stream",
     "text": [
      "\u001b[2K     \u001b[90m━━━━━━━━━━━━━━━━━━━━━━━━━━━━━━━━━━━━━━━━\u001b[0m \u001b[32m6.3/6.3 MB\u001b[0m \u001b[31m54.3 MB/s\u001b[0m eta \u001b[36m0:00:00\u001b[0m\n",
      "\u001b[2K     \u001b[90m━━━━━━━━━━━━━━━━━━━━━━━━━━━━━━━━━━━━━━━━\u001b[0m \u001b[32m7.6/7.6 MB\u001b[0m \u001b[31m64.4 MB/s\u001b[0m eta \u001b[36m0:00:00\u001b[0m\n",
      "\u001b[2K     \u001b[90m━━━━━━━━━━━━━━━━━━━━━━━━━━━━━━━━━━━━━━\u001b[0m \u001b[32m190.3/190.3 KB\u001b[0m \u001b[31m23.8 MB/s\u001b[0m eta \u001b[36m0:00:00\u001b[0m\n",
      "\u001b[?25h"
     ]
    }
   ],
   "source": [
    "!pip install -q transformers"
   ]
  },
  {
   "cell_type": "code",
   "execution_count": 3,
   "metadata": {
    "colab": {
     "base_uri": "https://localhost:8080/"
    },
    "id": "8ffL29HhJYok",
    "outputId": "b9e2294c-3b93-4c85-be06-6a759903597d"
   },
   "outputs": [
    {
     "name": "stdout",
     "output_type": "stream",
     "text": [
      "\u001b[2K     \u001b[90m━━━━━━━━━━━━━━━━━━━━━━━━━━━━━━━━━━━━━━━━\u001b[0m \u001b[32m76.6/76.6 MB\u001b[0m \u001b[31m22.5 MB/s\u001b[0m eta \u001b[36m0:00:00\u001b[0m\n",
      "\u001b[?25h"
     ]
    }
   ],
   "source": [
    "!pip install -q catboost"
   ]
  },
  {
   "cell_type": "code",
   "execution_count": 4,
   "metadata": {
    "id": "9z12Wog5choF"
   },
   "outputs": [],
   "source": [
    "!pip install -q spacy"
   ]
  },
  {
   "cell_type": "code",
   "execution_count": 5,
   "metadata": {
    "id": "mghySELDchoF"
   },
   "outputs": [],
   "source": [
    "!pip install -q tqdm"
   ]
  },
  {
   "cell_type": "code",
   "execution_count": 6,
   "metadata": {
    "id": "5c87ubBDchoG"
   },
   "outputs": [],
   "source": [
    "!pip install -q wordcloud"
   ]
  },
  {
   "cell_type": "markdown",
   "metadata": {
    "id": "POtozwjfBFRT"
   },
   "source": [
    "## Импорты"
   ]
  },
  {
   "cell_type": "code",
   "execution_count": 8,
   "metadata": {
    "id": "MycEcZEychoG"
   },
   "outputs": [],
   "source": [
    "import re\n",
    "import time\n",
    "\n",
    "import numpy as np\n",
    "import pandas as pd\n",
    "\n",
    "from sklearn.feature_extraction.text import CountVectorizer, TfidfVectorizer\n",
    "from sklearn.linear_model import LogisticRegression\n",
    "from sklearn.metrics import f1_score\n",
    "from sklearn.model_selection import GridSearchCV, RandomizedSearchCV, train_test_split\n",
    "from sklearn.pipeline import Pipeline\n",
    "\n",
    "import spacy\n",
    "\n",
    "from catboost import CatBoostClassifier\n",
    "\n",
    "from tqdm import tqdm\n",
    "from tqdm import notebook\n",
    "from tqdm.auto import tqdm\n",
    "tqdm.pandas()\n",
    "\n",
    "import nltk\n",
    "from nltk.corpus import stopwords\n",
    "from nltk import word_tokenize\n",
    "from nltk.probability import FreqDist\n",
    "\n",
    "import torch\n",
    "from transformers import AutoModel, AutoTokenizer\n",
    "\n",
    "from wordcloud import WordCloud\n",
    "import matplotlib.pyplot as plt"
   ]
  },
  {
   "cell_type": "code",
   "execution_count": 9,
   "metadata": {
    "colab": {
     "base_uri": "https://localhost:8080/"
    },
    "id": "gXKgCVWvgDTC",
    "outputId": "d43f2aaf-6bd0-4cb8-8006-bc7d39afcba0"
   },
   "outputs": [
    {
     "name": "stderr",
     "output_type": "stream",
     "text": [
      "[nltk_data] Downloading package omw-1.4 to /root/nltk_data...\n",
      "[nltk_data] Downloading package punkt to /root/nltk_data...\n",
      "[nltk_data]   Unzipping tokenizers/punkt.zip.\n",
      "[nltk_data] Downloading package stopwords to /root/nltk_data...\n",
      "[nltk_data]   Unzipping corpora/stopwords.zip.\n"
     ]
    },
    {
     "data": {
      "text/plain": [
       "True"
      ]
     },
     "execution_count": 9,
     "metadata": {},
     "output_type": "execute_result"
    }
   ],
   "source": [
    "nltk.download('omw-1.4')\n",
    "nltk.download('punkt')\n",
    "nltk.download('stopwords')"
   ]
  },
  {
   "cell_type": "code",
   "execution_count": 10,
   "metadata": {
    "id": "9XkqjyI-2Sl6"
   },
   "outputs": [],
   "source": [
    "stopwords = set(stopwords.words('english'))"
   ]
  },
  {
   "cell_type": "markdown",
   "metadata": {
    "id": "FurhXzITBJms"
   },
   "source": [
    "## Чтение данных"
   ]
  },
  {
   "cell_type": "code",
   "execution_count": 12,
   "metadata": {
    "colab": {
     "base_uri": "https://localhost:8080/"
    },
    "id": "roXGhLT6Aw4_",
    "outputId": "b34df8b3-29a8-4dc8-eb9b-fe87aff7be23"
   },
   "outputs": [
    {
     "name": "stdout",
     "output_type": "stream",
     "text": [
      "Mounted at /content/drive\n"
     ]
    }
   ],
   "source": [
    "from google.colab import drive\n",
    "drive.mount('/content/drive')"
   ]
  },
  {
   "cell_type": "code",
   "execution_count": 13,
   "metadata": {
    "id": "Yqepy8qTchoH"
   },
   "outputs": [],
   "source": [
    "try:\n",
    "    data = pd.read_csv('/content/drive/MyDrive/Datasets/toxic_comments.csv', index_col=0)\n",
    "\n",
    "except:\n",
    "    data = pd.read_csv('/datasets/toxic_comments.csv', index_col=0) "
   ]
  },
  {
   "cell_type": "code",
   "execution_count": 14,
   "metadata": {
    "colab": {
     "base_uri": "https://localhost:8080/",
     "height": 225
    },
    "id": "F1vZWmQhchoI",
    "outputId": "23535397-6c82-448b-d72d-b0d5f1862b2c"
   },
   "outputs": [
    {
     "name": "stdout",
     "output_type": "stream",
     "text": [
      "Количество комментариев: 159292.\n"
     ]
    },
    {
     "data": {
      "text/html": [
       "\n",
       "  <div id=\"df-db185974-ea99-482a-b73a-f025b0877a09\">\n",
       "    <div class=\"colab-df-container\">\n",
       "      <div>\n",
       "<style scoped>\n",
       "    .dataframe tbody tr th:only-of-type {\n",
       "        vertical-align: middle;\n",
       "    }\n",
       "\n",
       "    .dataframe tbody tr th {\n",
       "        vertical-align: top;\n",
       "    }\n",
       "\n",
       "    .dataframe thead th {\n",
       "        text-align: right;\n",
       "    }\n",
       "</style>\n",
       "<table border=\"1\" class=\"dataframe\">\n",
       "  <thead>\n",
       "    <tr style=\"text-align: right;\">\n",
       "      <th></th>\n",
       "      <th>text</th>\n",
       "      <th>toxic</th>\n",
       "    </tr>\n",
       "  </thead>\n",
       "  <tbody>\n",
       "    <tr>\n",
       "      <th>0</th>\n",
       "      <td>Explanation\\nWhy the edits made under my usern...</td>\n",
       "      <td>0</td>\n",
       "    </tr>\n",
       "    <tr>\n",
       "      <th>1</th>\n",
       "      <td>D'aww! He matches this background colour I'm s...</td>\n",
       "      <td>0</td>\n",
       "    </tr>\n",
       "    <tr>\n",
       "      <th>2</th>\n",
       "      <td>Hey man, I'm really not trying to edit war. It...</td>\n",
       "      <td>0</td>\n",
       "    </tr>\n",
       "    <tr>\n",
       "      <th>3</th>\n",
       "      <td>\"\\nMore\\nI can't make any real suggestions on ...</td>\n",
       "      <td>0</td>\n",
       "    </tr>\n",
       "    <tr>\n",
       "      <th>4</th>\n",
       "      <td>You, sir, are my hero. Any chance you remember...</td>\n",
       "      <td>0</td>\n",
       "    </tr>\n",
       "  </tbody>\n",
       "</table>\n",
       "</div>\n",
       "      <button class=\"colab-df-convert\" onclick=\"convertToInteractive('df-db185974-ea99-482a-b73a-f025b0877a09')\"\n",
       "              title=\"Convert this dataframe to an interactive table.\"\n",
       "              style=\"display:none;\">\n",
       "        \n",
       "  <svg xmlns=\"http://www.w3.org/2000/svg\" height=\"24px\"viewBox=\"0 0 24 24\"\n",
       "       width=\"24px\">\n",
       "    <path d=\"M0 0h24v24H0V0z\" fill=\"none\"/>\n",
       "    <path d=\"M18.56 5.44l.94 2.06.94-2.06 2.06-.94-2.06-.94-.94-2.06-.94 2.06-2.06.94zm-11 1L8.5 8.5l.94-2.06 2.06-.94-2.06-.94L8.5 2.5l-.94 2.06-2.06.94zm10 10l.94 2.06.94-2.06 2.06-.94-2.06-.94-.94-2.06-.94 2.06-2.06.94z\"/><path d=\"M17.41 7.96l-1.37-1.37c-.4-.4-.92-.59-1.43-.59-.52 0-1.04.2-1.43.59L10.3 9.45l-7.72 7.72c-.78.78-.78 2.05 0 2.83L4 21.41c.39.39.9.59 1.41.59.51 0 1.02-.2 1.41-.59l7.78-7.78 2.81-2.81c.8-.78.8-2.07 0-2.86zM5.41 20L4 18.59l7.72-7.72 1.47 1.35L5.41 20z\"/>\n",
       "  </svg>\n",
       "      </button>\n",
       "      \n",
       "  <style>\n",
       "    .colab-df-container {\n",
       "      display:flex;\n",
       "      flex-wrap:wrap;\n",
       "      gap: 12px;\n",
       "    }\n",
       "\n",
       "    .colab-df-convert {\n",
       "      background-color: #E8F0FE;\n",
       "      border: none;\n",
       "      border-radius: 50%;\n",
       "      cursor: pointer;\n",
       "      display: none;\n",
       "      fill: #1967D2;\n",
       "      height: 32px;\n",
       "      padding: 0 0 0 0;\n",
       "      width: 32px;\n",
       "    }\n",
       "\n",
       "    .colab-df-convert:hover {\n",
       "      background-color: #E2EBFA;\n",
       "      box-shadow: 0px 1px 2px rgba(60, 64, 67, 0.3), 0px 1px 3px 1px rgba(60, 64, 67, 0.15);\n",
       "      fill: #174EA6;\n",
       "    }\n",
       "\n",
       "    [theme=dark] .colab-df-convert {\n",
       "      background-color: #3B4455;\n",
       "      fill: #D2E3FC;\n",
       "    }\n",
       "\n",
       "    [theme=dark] .colab-df-convert:hover {\n",
       "      background-color: #434B5C;\n",
       "      box-shadow: 0px 1px 3px 1px rgba(0, 0, 0, 0.15);\n",
       "      filter: drop-shadow(0px 1px 2px rgba(0, 0, 0, 0.3));\n",
       "      fill: #FFFFFF;\n",
       "    }\n",
       "  </style>\n",
       "\n",
       "      <script>\n",
       "        const buttonEl =\n",
       "          document.querySelector('#df-db185974-ea99-482a-b73a-f025b0877a09 button.colab-df-convert');\n",
       "        buttonEl.style.display =\n",
       "          google.colab.kernel.accessAllowed ? 'block' : 'none';\n",
       "\n",
       "        async function convertToInteractive(key) {\n",
       "          const element = document.querySelector('#df-db185974-ea99-482a-b73a-f025b0877a09');\n",
       "          const dataTable =\n",
       "            await google.colab.kernel.invokeFunction('convertToInteractive',\n",
       "                                                     [key], {});\n",
       "          if (!dataTable) return;\n",
       "\n",
       "          const docLinkHtml = 'Like what you see? Visit the ' +\n",
       "            '<a target=\"_blank\" href=https://colab.research.google.com/notebooks/data_table.ipynb>data table notebook</a>'\n",
       "            + ' to learn more about interactive tables.';\n",
       "          element.innerHTML = '';\n",
       "          dataTable['output_type'] = 'display_data';\n",
       "          await google.colab.output.renderOutput(dataTable, element);\n",
       "          const docLink = document.createElement('div');\n",
       "          docLink.innerHTML = docLinkHtml;\n",
       "          element.appendChild(docLink);\n",
       "        }\n",
       "      </script>\n",
       "    </div>\n",
       "  </div>\n",
       "  "
      ],
      "text/plain": [
       "                                                text  toxic\n",
       "0  Explanation\\nWhy the edits made under my usern...      0\n",
       "1  D'aww! He matches this background colour I'm s...      0\n",
       "2  Hey man, I'm really not trying to edit war. It...      0\n",
       "3  \"\\nMore\\nI can't make any real suggestions on ...      0\n",
       "4  You, sir, are my hero. Any chance you remember...      0"
      ]
     },
     "execution_count": 14,
     "metadata": {},
     "output_type": "execute_result"
    }
   ],
   "source": [
    "print(f'Количество комментариев: {data.shape[0]}.')\n",
    "data.head()"
   ]
  },
  {
   "cell_type": "markdown",
   "metadata": {},
   "source": [
    "На эксперимент представлено 159 тыс. комментариев пользователей."
   ]
  },
  {
   "cell_type": "markdown",
   "metadata": {
    "id": "jBufQZ1HBOVb"
   },
   "source": [
    "## Подготовка текста"
   ]
  },
  {
   "cell_type": "markdown",
   "metadata": {
    "id": "R8yOpNfCHWSy"
   },
   "source": [
    "### Лемматизация"
   ]
  },
  {
   "cell_type": "markdown",
   "metadata": {
    "id": "sAPL9btue0ST"
   },
   "source": [
    "Подготовим текст к векторизации. Исключим заменим прописные буквы строчными, исключим двойные пробелы, оставим тексте только англоязычные буквы. Слова приведем к лемме."
   ]
  },
  {
   "cell_type": "code",
   "execution_count": 16,
   "metadata": {
    "id": "GSR7v_9fchoI"
   },
   "outputs": [],
   "source": [
    "nlp = spacy.load(\"en_core_web_sm\")\n",
    "\n",
    "def preprocess_text(text):\n",
    "    text = text.lower()\n",
    "    text = re.sub(r'[^a-zA-Z\\s]', '', text)\n",
    "    text = re.sub(r'\\s+', ' ', text)\n",
    "    return text\n",
    "\n",
    "def lemmatize_text(text):\n",
    "    preprocessed_text = preprocess_text(text)\n",
    "    doc = nlp(preprocessed_text)\n",
    "    lemmas = [token.lemma_ for token in doc]\n",
    "    return ' '.join(lemmas)"
   ]
  },
  {
   "cell_type": "code",
   "execution_count": 18,
   "metadata": {
    "colab": {
     "base_uri": "https://localhost:8080/",
     "height": 87,
     "referenced_widgets": [
      "e8007d5b1ee24e6190ba18c5abe276d7",
      "0488301bd13c4af6b2a92da8be8c92ea",
      "62e7ceb7f4ea43229c7d60c6948615b8",
      "3652d93c62854be5b92f2b8c760b4918",
      "a969a0b9e58446aa932af524d8d6134f",
      "3237f58ca62241cdb4d1fcde11be4453",
      "46ccc623b7814156a7b9b4c457e4d5e5",
      "dc14e2150c87438ba6bd5f923e331625",
      "d28ad35ede7c45eca684b4b3b5b6c271",
      "5f9b85e6d79e4e12bff7b66fa5486f08",
      "fcbc00b90e5e4f8d9785e1fdc5331a61"
     ]
    },
    "id": "Qg7f0xVfchoI",
    "outputId": "cc1e3175-1b9f-4fd9-eb60-697b338bc6b5"
   },
   "outputs": [
    {
     "data": {
      "application/vnd.jupyter.widget-view+json": {
       "model_id": "e8007d5b1ee24e6190ba18c5abe276d7",
       "version_major": 2,
       "version_minor": 0
      },
      "text/plain": [
       "  0%|          | 0/159292 [00:00<?, ?it/s]"
      ]
     },
     "metadata": {},
     "output_type": "display_data"
    },
    {
     "name": "stdout",
     "output_type": "stream",
     "text": [
      "CPU times: user 37min 7s, sys: 11.9 s, total: 37min 19s\n",
      "Wall time: 36min 59s\n"
     ]
    }
   ],
   "source": [
    "%%time\n",
    "\n",
    "data['text_lemmatized'] = data['text'].progress_apply(lemmatize_text)"
   ]
  },
  {
   "cell_type": "code",
   "execution_count": 19,
   "metadata": {
    "colab": {
     "base_uri": "https://localhost:8080/",
     "height": 206
    },
    "id": "S4Fl3H-CCF_c",
    "outputId": "57d2a476-5f0e-4999-8be4-47f6e2395269"
   },
   "outputs": [
    {
     "data": {
      "text/html": [
       "\n",
       "  <div id=\"df-f9aea85d-c246-4dc1-90f1-e8b98f0c29d6\">\n",
       "    <div class=\"colab-df-container\">\n",
       "      <div>\n",
       "<style scoped>\n",
       "    .dataframe tbody tr th:only-of-type {\n",
       "        vertical-align: middle;\n",
       "    }\n",
       "\n",
       "    .dataframe tbody tr th {\n",
       "        vertical-align: top;\n",
       "    }\n",
       "\n",
       "    .dataframe thead th {\n",
       "        text-align: right;\n",
       "    }\n",
       "</style>\n",
       "<table border=\"1\" class=\"dataframe\">\n",
       "  <thead>\n",
       "    <tr style=\"text-align: right;\">\n",
       "      <th></th>\n",
       "      <th>text</th>\n",
       "      <th>toxic</th>\n",
       "      <th>text_lemmatized</th>\n",
       "    </tr>\n",
       "  </thead>\n",
       "  <tbody>\n",
       "    <tr>\n",
       "      <th>0</th>\n",
       "      <td>Explanation\\nWhy the edits made under my usern...</td>\n",
       "      <td>0</td>\n",
       "      <td>explanation why the edit make under my usernam...</td>\n",
       "    </tr>\n",
       "    <tr>\n",
       "      <th>1</th>\n",
       "      <td>D'aww! He matches this background colour I'm s...</td>\n",
       "      <td>0</td>\n",
       "      <td>daww he match this background colour I m seemi...</td>\n",
       "    </tr>\n",
       "    <tr>\n",
       "      <th>2</th>\n",
       "      <td>Hey man, I'm really not trying to edit war. It...</td>\n",
       "      <td>0</td>\n",
       "      <td>hey man I m really not try to edit war its jus...</td>\n",
       "    </tr>\n",
       "    <tr>\n",
       "      <th>3</th>\n",
       "      <td>\"\\nMore\\nI can't make any real suggestions on ...</td>\n",
       "      <td>0</td>\n",
       "      <td>more I can not make any real suggestion on i...</td>\n",
       "    </tr>\n",
       "    <tr>\n",
       "      <th>4</th>\n",
       "      <td>You, sir, are my hero. Any chance you remember...</td>\n",
       "      <td>0</td>\n",
       "      <td>you sir be my hero any chance you remember wha...</td>\n",
       "    </tr>\n",
       "  </tbody>\n",
       "</table>\n",
       "</div>\n",
       "      <button class=\"colab-df-convert\" onclick=\"convertToInteractive('df-f9aea85d-c246-4dc1-90f1-e8b98f0c29d6')\"\n",
       "              title=\"Convert this dataframe to an interactive table.\"\n",
       "              style=\"display:none;\">\n",
       "        \n",
       "  <svg xmlns=\"http://www.w3.org/2000/svg\" height=\"24px\"viewBox=\"0 0 24 24\"\n",
       "       width=\"24px\">\n",
       "    <path d=\"M0 0h24v24H0V0z\" fill=\"none\"/>\n",
       "    <path d=\"M18.56 5.44l.94 2.06.94-2.06 2.06-.94-2.06-.94-.94-2.06-.94 2.06-2.06.94zm-11 1L8.5 8.5l.94-2.06 2.06-.94-2.06-.94L8.5 2.5l-.94 2.06-2.06.94zm10 10l.94 2.06.94-2.06 2.06-.94-2.06-.94-.94-2.06-.94 2.06-2.06.94z\"/><path d=\"M17.41 7.96l-1.37-1.37c-.4-.4-.92-.59-1.43-.59-.52 0-1.04.2-1.43.59L10.3 9.45l-7.72 7.72c-.78.78-.78 2.05 0 2.83L4 21.41c.39.39.9.59 1.41.59.51 0 1.02-.2 1.41-.59l7.78-7.78 2.81-2.81c.8-.78.8-2.07 0-2.86zM5.41 20L4 18.59l7.72-7.72 1.47 1.35L5.41 20z\"/>\n",
       "  </svg>\n",
       "      </button>\n",
       "      \n",
       "  <style>\n",
       "    .colab-df-container {\n",
       "      display:flex;\n",
       "      flex-wrap:wrap;\n",
       "      gap: 12px;\n",
       "    }\n",
       "\n",
       "    .colab-df-convert {\n",
       "      background-color: #E8F0FE;\n",
       "      border: none;\n",
       "      border-radius: 50%;\n",
       "      cursor: pointer;\n",
       "      display: none;\n",
       "      fill: #1967D2;\n",
       "      height: 32px;\n",
       "      padding: 0 0 0 0;\n",
       "      width: 32px;\n",
       "    }\n",
       "\n",
       "    .colab-df-convert:hover {\n",
       "      background-color: #E2EBFA;\n",
       "      box-shadow: 0px 1px 2px rgba(60, 64, 67, 0.3), 0px 1px 3px 1px rgba(60, 64, 67, 0.15);\n",
       "      fill: #174EA6;\n",
       "    }\n",
       "\n",
       "    [theme=dark] .colab-df-convert {\n",
       "      background-color: #3B4455;\n",
       "      fill: #D2E3FC;\n",
       "    }\n",
       "\n",
       "    [theme=dark] .colab-df-convert:hover {\n",
       "      background-color: #434B5C;\n",
       "      box-shadow: 0px 1px 3px 1px rgba(0, 0, 0, 0.15);\n",
       "      filter: drop-shadow(0px 1px 2px rgba(0, 0, 0, 0.3));\n",
       "      fill: #FFFFFF;\n",
       "    }\n",
       "  </style>\n",
       "\n",
       "      <script>\n",
       "        const buttonEl =\n",
       "          document.querySelector('#df-f9aea85d-c246-4dc1-90f1-e8b98f0c29d6 button.colab-df-convert');\n",
       "        buttonEl.style.display =\n",
       "          google.colab.kernel.accessAllowed ? 'block' : 'none';\n",
       "\n",
       "        async function convertToInteractive(key) {\n",
       "          const element = document.querySelector('#df-f9aea85d-c246-4dc1-90f1-e8b98f0c29d6');\n",
       "          const dataTable =\n",
       "            await google.colab.kernel.invokeFunction('convertToInteractive',\n",
       "                                                     [key], {});\n",
       "          if (!dataTable) return;\n",
       "\n",
       "          const docLinkHtml = 'Like what you see? Visit the ' +\n",
       "            '<a target=\"_blank\" href=https://colab.research.google.com/notebooks/data_table.ipynb>data table notebook</a>'\n",
       "            + ' to learn more about interactive tables.';\n",
       "          element.innerHTML = '';\n",
       "          dataTable['output_type'] = 'display_data';\n",
       "          await google.colab.output.renderOutput(dataTable, element);\n",
       "          const docLink = document.createElement('div');\n",
       "          docLink.innerHTML = docLinkHtml;\n",
       "          element.appendChild(docLink);\n",
       "        }\n",
       "      </script>\n",
       "    </div>\n",
       "  </div>\n",
       "  "
      ],
      "text/plain": [
       "                                                text  toxic  \\\n",
       "0  Explanation\\nWhy the edits made under my usern...      0   \n",
       "1  D'aww! He matches this background colour I'm s...      0   \n",
       "2  Hey man, I'm really not trying to edit war. It...      0   \n",
       "3  \"\\nMore\\nI can't make any real suggestions on ...      0   \n",
       "4  You, sir, are my hero. Any chance you remember...      0   \n",
       "\n",
       "                                     text_lemmatized  \n",
       "0  explanation why the edit make under my usernam...  \n",
       "1  daww he match this background colour I m seemi...  \n",
       "2  hey man I m really not try to edit war its jus...  \n",
       "3    more I can not make any real suggestion on i...  \n",
       "4  you sir be my hero any chance you remember wha...  "
      ]
     },
     "execution_count": 19,
     "metadata": {},
     "output_type": "execute_result"
    }
   ],
   "source": [
    "data.head()"
   ]
  },
  {
   "cell_type": "markdown",
   "metadata": {
    "id": "Fa7pHtE9fKa3"
   },
   "source": [
    "Комметарии подготовлены к созданию признаков для обучения классифкаторов."
   ]
  },
  {
   "cell_type": "markdown",
   "metadata": {
    "id": "qTSpRAO3choJ"
   },
   "source": [
    "### Частотный анализ текста"
   ]
  },
  {
   "cell_type": "markdown",
   "metadata": {
    "id": "p_h5LB0HchoJ"
   },
   "source": [
    "1. Токенизируем лемматизированный текст:"
   ]
  },
  {
   "cell_type": "code",
   "execution_count": 20,
   "metadata": {
    "id": "jcF9Lw9hchoJ"
   },
   "outputs": [],
   "source": [
    "text_tokens = word_tokenize(' '.join(data['text_lemmatized']))"
   ]
  },
  {
   "cell_type": "markdown",
   "metadata": {
    "id": "bb1nERTPchoJ"
   },
   "source": [
    "2. Отчистим текст от \"стоп-слов\":"
   ]
  },
  {
   "cell_type": "code",
   "execution_count": 21,
   "metadata": {
    "id": "XaA8iHmvchoJ"
   },
   "outputs": [],
   "source": [
    "filtered_text_tokens = [word for word in text_tokens if word not in stopwords]"
   ]
  },
  {
   "cell_type": "markdown",
   "metadata": {
    "id": "iol3oILvchoJ"
   },
   "source": [
    "3. Список токенов преобразуем к классу Text:"
   ]
  },
  {
   "cell_type": "code",
   "execution_count": 22,
   "metadata": {
    "id": "vxacLLnechoJ"
   },
   "outputs": [],
   "source": [
    "text = nltk.Text(filtered_text_tokens)"
   ]
  },
  {
   "cell_type": "markdown",
   "metadata": {
    "id": "Apsv-FfIchoJ"
   },
   "source": [
    "4. Для подсчёта статистики распределения частот слов в тексте применим класс FreqDist:"
   ]
  },
  {
   "cell_type": "code",
   "execution_count": 23,
   "metadata": {
    "id": "PSv0-zRJchoJ"
   },
   "outputs": [],
   "source": [
    "fdist = FreqDist(text)"
   ]
  },
  {
   "cell_type": "markdown",
   "metadata": {
    "id": "pPRdlEVochoJ"
   },
   "source": [
    "5.  Класс FreqDist содержит встроенный метод plot для построения графика частот:"
   ]
  },
  {
   "cell_type": "code",
   "execution_count": 24,
   "metadata": {
    "colab": {
     "base_uri": "https://localhost:8080/",
     "height": 561
    },
    "id": "494DVtbtchoK",
    "outputId": "42697a98-d239-4106-d0dd-a95eacbe2109",
    "scrolled": false
   },
   "outputs": [
    {
     "data": {
      "image/png": "[encoded data removed]",
      "text/plain": [
       "<Figure size 1440x576 with 1 Axes>"
      ]
     },
     "metadata": {
      "needs_background": "light"
     },
     "output_type": "display_data"
    }
   ],
   "source": [
    "plt.figure(figsize=(20, 8))\n",
    "fdist.plot(50, cumulative=False, title='Word frequency distribution')\n",
    "plt.show()"
   ]
  },
  {
   "cell_type": "markdown",
   "metadata": {
    "id": "UwY2fwtUchoK"
   },
   "source": [
    "### \"Облако слов\""
   ]
  },
  {
   "cell_type": "markdown",
   "metadata": {
    "id": "ZWTuw0HgchoK"
   },
   "source": [
    "1. Для построения облака слов на вход методу необходимо передать строку. Для преобразования списка токенов после предобработки и удаления стоп-слов воспользуемся методом join, указав в качестве разделителя пробел:"
   ]
  },
  {
   "cell_type": "code",
   "execution_count": 25,
   "metadata": {
    "id": "vAT2-F1LchoK"
   },
   "outputs": [],
   "source": [
    "text_raw = ' '.join(text)"
   ]
  },
  {
   "cell_type": "markdown",
   "metadata": {
    "id": "fQYbzWfJchoK"
   },
   "source": [
    "2. Выполним вызов метода построения облака:"
   ]
  },
  {
   "cell_type": "code",
   "execution_count": 26,
   "metadata": {
    "id": "vP629CE4choK"
   },
   "outputs": [],
   "source": [
    "wordcloud = WordCloud().generate(text_raw)"
   ]
  },
  {
   "cell_type": "code",
   "execution_count": 27,
   "metadata": {
    "colab": {
     "base_uri": "https://localhost:8080/",
     "height": 482
    },
    "id": "ISZkMz_gchoK",
    "outputId": "2adfe32f-462d-4ad4-acce-aabe78a240bc"
   },
   "outputs": [
    {
     "data": {
      "image/png": "[encoded data removed]",
      "text/plain": [
       "<Figure size 1440x576 with 1 Axes>"
      ]
     },
     "metadata": {
      "needs_background": "light"
     },
     "output_type": "display_data"
    }
   ],
   "source": [
    "plt.figure(figsize=(20, 8))\n",
    "plt.imshow(wordcloud, interpolation='bilinear')\n",
    "plt.axis('off')\n",
    "plt.title('Word cloud')\n",
    "plt.show()"
   ]
  },
  {
   "cell_type": "markdown",
   "metadata": {
    "id": "BHhwMrbJchoK"
   },
   "source": [
    "### Баланс классов"
   ]
  },
  {
   "cell_type": "code",
   "execution_count": 28,
   "metadata": {
    "colab": {
     "base_uri": "https://localhost:8080/",
     "height": 81
    },
    "id": "sNmu3tQLchoK",
    "outputId": "45cf1de9-220c-445f-b711-8d4a693e3fa6"
   },
   "outputs": [
    {
     "data": {
      "text/html": [
       "\n",
       "  <div id=\"df-e97f4fe9-021b-42bb-9e7d-c569710c0bf4\">\n",
       "    <div class=\"colab-df-container\">\n",
       "      <div>\n",
       "<style scoped>\n",
       "    .dataframe tbody tr th:only-of-type {\n",
       "        vertical-align: middle;\n",
       "    }\n",
       "\n",
       "    .dataframe tbody tr th {\n",
       "        vertical-align: top;\n",
       "    }\n",
       "\n",
       "    .dataframe thead th {\n",
       "        text-align: right;\n",
       "    }\n",
       "</style>\n",
       "<table border=\"1\" class=\"dataframe\">\n",
       "  <thead>\n",
       "    <tr style=\"text-align: right;\">\n",
       "      <th></th>\n",
       "      <th>0</th>\n",
       "      <th>1</th>\n",
       "    </tr>\n",
       "  </thead>\n",
       "  <tbody>\n",
       "    <tr>\n",
       "      <th>toxic</th>\n",
       "      <td>0.9</td>\n",
       "      <td>0.1</td>\n",
       "    </tr>\n",
       "  </tbody>\n",
       "</table>\n",
       "</div>\n",
       "      <button class=\"colab-df-convert\" onclick=\"convertToInteractive('df-e97f4fe9-021b-42bb-9e7d-c569710c0bf4')\"\n",
       "              title=\"Convert this dataframe to an interactive table.\"\n",
       "              style=\"display:none;\">\n",
       "        \n",
       "  <svg xmlns=\"http://www.w3.org/2000/svg\" height=\"24px\"viewBox=\"0 0 24 24\"\n",
       "       width=\"24px\">\n",
       "    <path d=\"M0 0h24v24H0V0z\" fill=\"none\"/>\n",
       "    <path d=\"M18.56 5.44l.94 2.06.94-2.06 2.06-.94-2.06-.94-.94-2.06-.94 2.06-2.06.94zm-11 1L8.5 8.5l.94-2.06 2.06-.94-2.06-.94L8.5 2.5l-.94 2.06-2.06.94zm10 10l.94 2.06.94-2.06 2.06-.94-2.06-.94-.94-2.06-.94 2.06-2.06.94z\"/><path d=\"M17.41 7.96l-1.37-1.37c-.4-.4-.92-.59-1.43-.59-.52 0-1.04.2-1.43.59L10.3 9.45l-7.72 7.72c-.78.78-.78 2.05 0 2.83L4 21.41c.39.39.9.59 1.41.59.51 0 1.02-.2 1.41-.59l7.78-7.78 2.81-2.81c.8-.78.8-2.07 0-2.86zM5.41 20L4 18.59l7.72-7.72 1.47 1.35L5.41 20z\"/>\n",
       "  </svg>\n",
       "      </button>\n",
       "      \n",
       "  <style>\n",
       "    .colab-df-container {\n",
       "      display:flex;\n",
       "      flex-wrap:wrap;\n",
       "      gap: 12px;\n",
       "    }\n",
       "\n",
       "    .colab-df-convert {\n",
       "      background-color: #E8F0FE;\n",
       "      border: none;\n",
       "      border-radius: 50%;\n",
       "      cursor: pointer;\n",
       "      display: none;\n",
       "      fill: #1967D2;\n",
       "      height: 32px;\n",
       "      padding: 0 0 0 0;\n",
       "      width: 32px;\n",
       "    }\n",
       "\n",
       "    .colab-df-convert:hover {\n",
       "      background-color: #E2EBFA;\n",
       "      box-shadow: 0px 1px 2px rgba(60, 64, 67, 0.3), 0px 1px 3px 1px rgba(60, 64, 67, 0.15);\n",
       "      fill: #174EA6;\n",
       "    }\n",
       "\n",
       "    [theme=dark] .colab-df-convert {\n",
       "      background-color: #3B4455;\n",
       "      fill: #D2E3FC;\n",
       "    }\n",
       "\n",
       "    [theme=dark] .colab-df-convert:hover {\n",
       "      background-color: #434B5C;\n",
       "      box-shadow: 0px 1px 3px 1px rgba(0, 0, 0, 0.15);\n",
       "      filter: drop-shadow(0px 1px 2px rgba(0, 0, 0, 0.3));\n",
       "      fill: #FFFFFF;\n",
       "    }\n",
       "  </style>\n",
       "\n",
       "      <script>\n",
       "        const buttonEl =\n",
       "          document.querySelector('#df-e97f4fe9-021b-42bb-9e7d-c569710c0bf4 button.colab-df-convert');\n",
       "        buttonEl.style.display =\n",
       "          google.colab.kernel.accessAllowed ? 'block' : 'none';\n",
       "\n",
       "        async function convertToInteractive(key) {\n",
       "          const element = document.querySelector('#df-e97f4fe9-021b-42bb-9e7d-c569710c0bf4');\n",
       "          const dataTable =\n",
       "            await google.colab.kernel.invokeFunction('convertToInteractive',\n",
       "                                                     [key], {});\n",
       "          if (!dataTable) return;\n",
       "\n",
       "          const docLinkHtml = 'Like what you see? Visit the ' +\n",
       "            '<a target=\"_blank\" href=https://colab.research.google.com/notebooks/data_table.ipynb>data table notebook</a>'\n",
       "            + ' to learn more about interactive tables.';\n",
       "          element.innerHTML = '';\n",
       "          dataTable['output_type'] = 'display_data';\n",
       "          await google.colab.output.renderOutput(dataTable, element);\n",
       "          const docLink = document.createElement('div');\n",
       "          docLink.innerHTML = docLinkHtml;\n",
       "          element.appendChild(docLink);\n",
       "        }\n",
       "      </script>\n",
       "    </div>\n",
       "  </div>\n",
       "  "
      ],
      "text/plain": [
       "         0    1\n",
       "toxic  0.9  0.1"
      ]
     },
     "execution_count": 28,
     "metadata": {},
     "output_type": "execute_result"
    }
   ],
   "source": [
    "round(data['toxic'].value_counts(normalize=True).to_frame().T, 2)"
   ]
  },
  {
   "cell_type": "markdown",
   "metadata": {
    "id": "rxWviERxchoK"
   },
   "source": [
    "Имеет место дисбаланс класса в пользу доброжелательных комметнтариев."
   ]
  },
  {
   "cell_type": "markdown",
   "metadata": {
    "id": "HRixhLaychoM"
   },
   "source": [
    "## Пайплан векторизации признаков, подбора гиперпараметров и валидации модели логистической регрессии"
   ]
  },
  {
   "cell_type": "markdown",
   "metadata": {
    "id": "ZxhP4PthIIL3"
   },
   "source": [
    "В методических целях проведем эксперимент и подберем параментры, как диапазона N-грамм при векторизации призанков, так и гиперпараметров для логистической регресии."
   ]
  },
  {
   "cell_type": "markdown",
   "metadata": {
    "id": "fxxdVklqchoM"
   },
   "source": [
    "1. Создание пайплайнов\n",
    "\n",
    "Пайплайны созданы для модели логистической регресси. Используются векторизации методами BOW и TF-IDF с перебором занчений N-грамм (рассматриваются биграммы и триграммы).\n",
    "\n",
    "В модели логистической регресси подбираются параметры регуляризации.\n",
    "\n",
    "Подбор параметром осуществляется методом перебора по сетке."
   ]
  },
  {
   "cell_type": "code",
   "execution_count": 33,
   "metadata": {
    "id": "gV67keLuchoM"
   },
   "outputs": [],
   "source": [
    "lr_clf_bow_pipe = Pipeline([\n",
    "    ('bow_vectorizer', CountVectorizer(stop_words=stopwords)),\n",
    "    ('lr_clf', LogisticRegression(max_iter=1000, random_state=42))\n",
    "])\n",
    "\n",
    "lr_clf_tfidf_pipe = Pipeline([\n",
    "    ('tfidf_vectorizer', TfidfVectorizer(stop_words=stopwords)),\n",
    "    ('lr_clf', LogisticRegression(max_iter=1000, random_state=42))\n",
    "])\n",
    "\n",
    "lr_clf_bow_params = {'lr_clf__C': [.01, .05, .1, .5, 1, 5, 10]}\n",
    "\n",
    "lr_clf_tfidf_params = {'lr_clf__C': [.01, .05, .1, .5, 1, 5, 10]}\n",
    "\n",
    "\n",
    "\n",
    "lr_clf_bow_search = GridSearchCV(lr_clf_bow_pipe, lr_clf_bow_params, cv=3, scoring='f1')\n",
    "lr_clf_tfidf_search = GridSearchCV(lr_clf_tfidf_pipe, lr_clf_tfidf_params, cv=3, scoring='f1')"
   ]
  },
  {
   "cell_type": "code",
   "execution_count": 34,
   "metadata": {
    "id": "neiTsCIBchoM"
   },
   "outputs": [],
   "source": [
    "text_train, text_test, labels_train, labels_test = train_test_split(data['text_lemmatized'], \n",
    "                                                                    data['toxic'], \n",
    "                                                                    test_size=.2, \n",
    "                                                                    stratify=data['toxic'], \n",
    "                                                                    random_state=42)"
   ]
  },
  {
   "cell_type": "markdown",
   "metadata": {
    "id": "O_tR3G4QHjzf"
   },
   "source": [
    "## Обучение модели логистической регрессии"
   ]
  },
  {
   "cell_type": "markdown",
   "metadata": {
    "id": "YEd0jmWlchoM"
   },
   "source": [
    "### Признаки - BOW"
   ]
  },
  {
   "cell_type": "code",
   "execution_count": 35,
   "metadata": {
    "colab": {
     "base_uri": "https://localhost:8080/"
    },
    "id": "oe1ksndOchoM",
    "outputId": "a0812c9a-eb6b-4245-cd04-4337240a9c61"
   },
   "outputs": [
    {
     "name": "stdout",
     "output_type": "stream",
     "text": [
      "CPU times: user 26min 26s, sys: 1h 30min 45s, total: 1h 57min 12s\n",
      "Wall time: 12min 10s\n"
     ]
    },
    {
     "data": {
      "text/plain": [
       "GridSearchCV(cv=3,\n",
       "             estimator=Pipeline(steps=[('bow_vectorizer',\n",
       "                                        CountVectorizer(stop_words={'a',\n",
       "                                                                    'about',\n",
       "                                                                    'above',\n",
       "                                                                    'after',\n",
       "                                                                    'again',\n",
       "                                                                    'against',\n",
       "                                                                    'ain',\n",
       "                                                                    'all', 'am',\n",
       "                                                                    'an', 'and',\n",
       "                                                                    'any',\n",
       "                                                                    'are',\n",
       "                                                                    'aren',\n",
       "                                                                    \"aren't\",\n",
       "                                                                    'as', 'at',\n",
       "                                                                    'be',\n",
       "                                                                    'because',\n",
       "                                                                    'been',\n",
       "                                                                    'before',\n",
       "                                                                    'being',\n",
       "                                                                    'below',\n",
       "                                                                    'between',\n",
       "                                                                    'both',\n",
       "                                                                    'but', 'by',\n",
       "                                                                    'can',\n",
       "                                                                    'couldn',\n",
       "                                                                    \"couldn't\", ...})),\n",
       "                                       ('lr_clf',\n",
       "                                        LogisticRegression(max_iter=1000,\n",
       "                                                           random_state=42))]),\n",
       "             param_grid={'lr_clf__C': [0.01, 0.05, 0.1, 0.5, 1, 5, 10]},\n",
       "             scoring='f1')"
      ]
     },
     "execution_count": 35,
     "metadata": {},
     "output_type": "execute_result"
    }
   ],
   "source": [
    "%%time\n",
    "\n",
    "lr_clf_bow_search.fit(text_train, labels_train)"
   ]
  },
  {
   "cell_type": "markdown",
   "metadata": {
    "id": "NGy1puJ6choM"
   },
   "source": [
    "### Признаки - TF-IDF"
   ]
  },
  {
   "cell_type": "code",
   "execution_count": 36,
   "metadata": {
    "colab": {
     "base_uri": "https://localhost:8080/"
    },
    "id": "d67jO4rFchoM",
    "outputId": "af51c27a-77d9-49ef-a63e-d5f5077f8e54"
   },
   "outputs": [
    {
     "name": "stdout",
     "output_type": "stream",
     "text": [
      "CPU times: user 8min 33s, sys: 23min 6s, total: 31min 39s\n",
      "Wall time: 4min 47s\n"
     ]
    },
    {
     "data": {
      "text/plain": [
       "GridSearchCV(cv=3,\n",
       "             estimator=Pipeline(steps=[('tfidf_vectorizer',\n",
       "                                        TfidfVectorizer(stop_words={'a',\n",
       "                                                                    'about',\n",
       "                                                                    'above',\n",
       "                                                                    'after',\n",
       "                                                                    'again',\n",
       "                                                                    'against',\n",
       "                                                                    'ain',\n",
       "                                                                    'all', 'am',\n",
       "                                                                    'an', 'and',\n",
       "                                                                    'any',\n",
       "                                                                    'are',\n",
       "                                                                    'aren',\n",
       "                                                                    \"aren't\",\n",
       "                                                                    'as', 'at',\n",
       "                                                                    'be',\n",
       "                                                                    'because',\n",
       "                                                                    'been',\n",
       "                                                                    'before',\n",
       "                                                                    'being',\n",
       "                                                                    'below',\n",
       "                                                                    'between',\n",
       "                                                                    'both',\n",
       "                                                                    'but', 'by',\n",
       "                                                                    'can',\n",
       "                                                                    'couldn',\n",
       "                                                                    \"couldn't\", ...})),\n",
       "                                       ('lr_clf',\n",
       "                                        LogisticRegression(max_iter=1000,\n",
       "                                                           random_state=42))]),\n",
       "             param_grid={'lr_clf__C': [0.01, 0.05, 0.1, 0.5, 1, 5, 10]},\n",
       "             scoring='f1')"
      ]
     },
     "execution_count": 36,
     "metadata": {},
     "output_type": "execute_result"
    }
   ],
   "source": [
    "%%time\n",
    "\n",
    "lr_clf_tfidf_search.fit(text_train, labels_train)"
   ]
  },
  {
   "cell_type": "markdown",
   "metadata": {
    "id": "wYNwwT1RchoN"
   },
   "source": [
    "## Оценка качества модели логистической регрессии"
   ]
  },
  {
   "cell_type": "code",
   "execution_count": 37,
   "metadata": {
    "colab": {
     "base_uri": "https://localhost:8080/"
    },
    "id": "tv-2wffOchoN",
    "outputId": "272c8f1a-1d31-4971-c122-24ebdd5b13e5"
   },
   "outputs": [
    {
     "name": "stdout",
     "output_type": "stream",
     "text": [
      "LogisticRegression CountVectorizer F1-score: 0.76\n",
      "LogisticRegression CountVectorizer оптимальные гиперпараметры:  {'lr_clf__C': 5}\n",
      "\n",
      "LogisticRegression TfidfVectorizer F1-score: 0.77\n",
      "LogisticRegression TfidfVectorizer оптимальные гиперпараметры:  {'lr_clf__C': 10}\n"
     ]
    }
   ],
   "source": [
    "print(f'LogisticRegression CountVectorizer F1-score: {lr_clf_bow_search.best_score_:.2f}')\n",
    "print('LogisticRegression CountVectorizer оптимальные гиперпараметры: ', lr_clf_bow_search.best_params_)\n",
    "print()\n",
    "print(f'LogisticRegression TfidfVectorizer F1-score: {lr_clf_tfidf_search.best_score_:.2f}')\n",
    "print('LogisticRegression TfidfVectorizer оптимальные гиперпараметры: ', lr_clf_tfidf_search.best_params_)"
   ]
  },
  {
   "cell_type": "markdown",
   "metadata": {
    "id": "v6Hy45Wnf1uM"
   },
   "source": [
    "Обучение логистической регресси на векторах BOW дало оптимальный результат, как по скрости обучения, так и по метрике качества.\n",
    "\n",
    "Таким образом, для решения задачи Проекта целесообразно в качестве классификатора использовать логистическую регрессию на признаках - BOW.\n",
    "\n",
    "Продолжим эксперимент."
   ]
  },
  {
   "cell_type": "markdown",
   "metadata": {
    "id": "f_86YL45IlkO"
   },
   "source": [
    "## Пайплaйн векторизации признаков, обучения и валидации модели, на основе градиентного бустинга"
   ]
  },
  {
   "cell_type": "markdown",
   "metadata": {
    "id": "Rx0cFolKIvIp"
   },
   "source": [
    "Используем пайплан без подбора значений диапазона N-грамм и гиперпарметров модели. Значение N-грамм и гиперпараметров моделей используем дефолтные.\n",
    "\n",
    "Пайплан используем для исключения утечки данных при обучении векторайзеров и трансформации текста."
   ]
  },
  {
   "cell_type": "code",
   "execution_count": 48,
   "metadata": {
    "id": "IZeLSit1JIm1"
   },
   "outputs": [],
   "source": [
    "cb_clf_bow_pipe = Pipeline([\n",
    "    ('bow_vectorizer', CountVectorizer(stop_words=stopwords)),\n",
    "    ('cb_clf', CatBoostClassifier(silent=True, task_type='GPU', random_seed=42))\n",
    "])\n",
    "\n",
    "cb_clf_tfidf_pipe = Pipeline([\n",
    "    ('tfidf_vectorizer', TfidfVectorizer(stop_words=stopwords)),\n",
    "    ('cb_clf', CatBoostClassifier(silent=True, task_type='GPU', random_seed=42))\n",
    "])\n",
    "\n",
    "cb_clf_bow_params = {}\n",
    "\n",
    "cb_clf_tfidf_params = {}\n",
    "\n",
    "cb_clf_bow_search = GridSearchCV(cb_clf_bow_pipe, cb_clf_bow_params, cv=3, scoring='f1')\n",
    "cb_clf_tfidf_search = GridSearchCV(cb_clf_tfidf_pipe, cb_clf_tfidf_params, cv=3, scoring='f1')"
   ]
  },
  {
   "cell_type": "markdown",
   "metadata": {
    "id": "x_i7URLiKBR2"
   },
   "source": [
    "## Обучение модели, на основе градиентного бустинга"
   ]
  },
  {
   "cell_type": "markdown",
   "metadata": {
    "id": "q1VlhS5EKTQm"
   },
   "source": [
    "### Признаки - BOW"
   ]
  },
  {
   "cell_type": "code",
   "execution_count": 49,
   "metadata": {
    "colab": {
     "base_uri": "https://localhost:8080/"
    },
    "id": "Eso4_TB0Knr8",
    "outputId": "66752fec-2f80-4c49-f2c6-5b0258cdcad2"
   },
   "outputs": [
    {
     "name": "stdout",
     "output_type": "stream",
     "text": [
      "CPU times: user 21min 43s, sys: 3min 32s, total: 25min 15s\n",
      "Wall time: 4min 7s\n"
     ]
    },
    {
     "data": {
      "text/plain": [
       "GridSearchCV(cv=3,\n",
       "             estimator=Pipeline(steps=[('bow_vectorizer',\n",
       "                                        CountVectorizer(stop_words={'a',\n",
       "                                                                    'about',\n",
       "                                                                    'above',\n",
       "                                                                    'after',\n",
       "                                                                    'again',\n",
       "                                                                    'against',\n",
       "                                                                    'ain',\n",
       "                                                                    'all', 'am',\n",
       "                                                                    'an', 'and',\n",
       "                                                                    'any',\n",
       "                                                                    'are',\n",
       "                                                                    'aren',\n",
       "                                                                    \"aren't\",\n",
       "                                                                    'as', 'at',\n",
       "                                                                    'be',\n",
       "                                                                    'because',\n",
       "                                                                    'been',\n",
       "                                                                    'before',\n",
       "                                                                    'being',\n",
       "                                                                    'below',\n",
       "                                                                    'between',\n",
       "                                                                    'both',\n",
       "                                                                    'but', 'by',\n",
       "                                                                    'can',\n",
       "                                                                    'couldn',\n",
       "                                                                    \"couldn't\", ...})),\n",
       "                                       ('cb_clf',\n",
       "                                        <catboost.core.CatBoostClassifier object at 0x7fa5d8f84be0>)]),\n",
       "             param_grid={}, scoring='f1')"
      ]
     },
     "execution_count": 49,
     "metadata": {},
     "output_type": "execute_result"
    }
   ],
   "source": [
    "%%time\n",
    "\n",
    "cb_clf_bow_search.fit(text_train, labels_train)"
   ]
  },
  {
   "cell_type": "markdown",
   "metadata": {
    "id": "m-7EkKbgKaN4"
   },
   "source": [
    "### Признаки -  TF-IDF"
   ]
  },
  {
   "cell_type": "code",
   "execution_count": 50,
   "metadata": {
    "colab": {
     "base_uri": "https://localhost:8080/"
    },
    "id": "M9Gjp1ZXKrTs",
    "outputId": "894e43cd-8333-4813-9eb7-425d8a9f0b1c"
   },
   "outputs": [
    {
     "name": "stdout",
     "output_type": "stream",
     "text": [
      "CPU times: user 23min 2s, sys: 4min, total: 27min 3s\n",
      "Wall time: 5min 45s\n"
     ]
    },
    {
     "data": {
      "text/plain": [
       "GridSearchCV(cv=3,\n",
       "             estimator=Pipeline(steps=[('tfidf_vectorizer',\n",
       "                                        TfidfVectorizer(stop_words={'a',\n",
       "                                                                    'about',\n",
       "                                                                    'above',\n",
       "                                                                    'after',\n",
       "                                                                    'again',\n",
       "                                                                    'against',\n",
       "                                                                    'ain',\n",
       "                                                                    'all', 'am',\n",
       "                                                                    'an', 'and',\n",
       "                                                                    'any',\n",
       "                                                                    'are',\n",
       "                                                                    'aren',\n",
       "                                                                    \"aren't\",\n",
       "                                                                    'as', 'at',\n",
       "                                                                    'be',\n",
       "                                                                    'because',\n",
       "                                                                    'been',\n",
       "                                                                    'before',\n",
       "                                                                    'being',\n",
       "                                                                    'below',\n",
       "                                                                    'between',\n",
       "                                                                    'both',\n",
       "                                                                    'but', 'by',\n",
       "                                                                    'can',\n",
       "                                                                    'couldn',\n",
       "                                                                    \"couldn't\", ...})),\n",
       "                                       ('cb_clf',\n",
       "                                        <catboost.core.CatBoostClassifier object at 0x7fa5d8f84520>)]),\n",
       "             param_grid={}, scoring='f1')"
      ]
     },
     "execution_count": 50,
     "metadata": {},
     "output_type": "execute_result"
    }
   ],
   "source": [
    "%%time\n",
    "\n",
    "cb_clf_tfidf_search.fit(text_train, labels_train)"
   ]
  },
  {
   "cell_type": "markdown",
   "metadata": {
    "id": "fbsN6-avLMFN"
   },
   "source": [
    "## Оценка качества модели, на основе градиентного бустинга"
   ]
  },
  {
   "cell_type": "code",
   "execution_count": 51,
   "metadata": {
    "colab": {
     "base_uri": "https://localhost:8080/"
    },
    "id": "Hx-rcsL8LOm1",
    "outputId": "d83fc7d3-91e1-4fd9-bd48-f5929855e357"
   },
   "outputs": [
    {
     "name": "stdout",
     "output_type": "stream",
     "text": [
      "CatBoostClassifier CountVectorizer F1-score: 0.67\n",
      "CatBoostClassifier CountVectorizer оптимальные гиперпараметры:  {}\n",
      "\n",
      "CatBoostClassifier TfidfVectorizer F1-score: 0.70\n",
      "CatBoostClassifier TfidfVectorizer оптимальные гиперпараметры:  {}\n"
     ]
    }
   ],
   "source": [
    "print(f'CatBoostClassifier CountVectorizer F1-score: {cb_clf_bow_search.best_score_:.2f}')\n",
    "print('CatBoostClassifier CountVectorizer оптимальные гиперпараметры: ', cb_clf_bow_search.best_params_)\n",
    "print()\n",
    "print(f'CatBoostClassifier TfidfVectorizer F1-score: {cb_clf_tfidf_search.best_score_:.2f}')\n",
    "print('CatBoostClassifier TfidfVectorizer оптимальные гиперпараметры: ', cb_clf_tfidf_search.best_params_)"
   ]
  },
  {
   "cell_type": "markdown",
   "metadata": {
    "id": "1yLnzpXlaXev"
   },
   "source": [
    "##  BERT"
   ]
  },
  {
   "cell_type": "markdown",
   "metadata": {
    "id": "EQSKRA9KXBlw"
   },
   "source": [
    "В качестве эксперимента, веторизуем данные предобученной моделью BERT."
   ]
  },
  {
   "cell_type": "markdown",
   "metadata": {
    "id": "cRwJdA9VchoP"
   },
   "source": [
    "### Получение признаков из текста"
   ]
  },
  {
   "cell_type": "markdown",
   "metadata": {
    "id": "8isjd23daymD"
   },
   "source": [
    "1. Определение места проведения расчетов\n",
    "\n",
    "Для ускорения расчетов воспользуемся графическим процессором."
   ]
  },
  {
   "cell_type": "code",
   "execution_count": 52,
   "metadata": {
    "id": "xj3HdXI95HM2"
   },
   "outputs": [],
   "source": [
    "device = torch.device('cuda' if torch.cuda.is_available() else 'cpu')"
   ]
  },
  {
   "cell_type": "markdown",
   "metadata": {
    "id": "Jnml3ypIa7it"
   },
   "source": [
    "2. Получение токенов из текста\n",
    "\n",
    "Для токенизации и векторизация текста комментариев будем использовать модель BERTox. \n",
    "\n",
    "Это модель BERT, специально разработанная для обработки токсичных комментариев, которая была дообучена на наборе данных с токсичными комментариями. Она может обеспечить лучшие результаты в задачах анализа тональности и классификации токсичных комментариев."
   ]
  },
  {
   "cell_type": "code",
   "execution_count": 54,
   "metadata": {
    "colab": {
     "base_uri": "https://localhost:8080/",
     "height": 145,
     "referenced_widgets": [
      "4f05fcdd8b914a9c8319fe659d130bbc",
      "15f7d084bd0b432398b253536ae1075a",
      "4fc9ca9bedec4b8e94d9968bcdfeef47",
      "5c651882da6e4e6bad3fe811a81e0cbf",
      "44eb3afa9a0548588ae93ae8f63963f8",
      "bbfc42082d8d4d22a7a992486f9f62ed",
      "d63493a2ba1e4ebb98861fa75e9e3f7e",
      "5ce3188f9a3c475099435c1fae6cc13f",
      "3f1548fccbf646b7a92dd8c15c6cc9bf",
      "2a5472277c84466f81114db92c08773f",
      "c48110fa65f84c51a11a919251a49785",
      "3e3a19e642324b10a18821e5aff444b6",
      "86368e02667d4dfeb45655a6b4a9ccc4",
      "80850cf1abbf493fb7e5bcbea89c23dc",
      "0b771693e1da4853a4c9fa963f0dbff6",
      "4a23a0d079284da5b45d348ab033ea82",
      "968ff18e3c554ec2a25d183be19ce850",
      "43e2aa5f08014ddbaf11c530ee99a030",
      "6381772734a04895a836466ab76ffb46",
      "c0a335c4c915475d8fdd38152ff5bb54",
      "f46b7e42501c47ca9cde6a839d0dc0df",
      "d1c3a94e21d042a1b449f0a98904cf05",
      "4f865b2dd68044fe853f1751a0fb0ccb",
      "4dc5564187cb4e37822a4d1c471b5afc",
      "40dfcb83edbb44c0860f88a6f69c4dff",
      "e2f2d76b722c4660ae32ec394a774294",
      "af93c1088f074010a166fe9b3c3de715",
      "1ef5d09b15104136a442098290279dfe",
      "4dedbbe0b1774359a03d4dd5faf28f6e",
      "7d12ccee700a4e01b34e3c067549054f",
      "4bf9050f0a274f7aa384df985335cc2a",
      "638b6b213cf5434faee8f2801c9d6c4a",
      "e7e002cd068f4c208222bddc32f49e9c",
      "a1c14aab88a54eeda5edfc5a08255f0d",
      "1d3af2c0795c4db58fde2ee7f2dd9341",
      "b92acc9396594149bf27ec1d47e616fe",
      "3a96712eb63040239c232d7ba93de876",
      "8e76f659f1124624a88406663b2cbf60",
      "e6963f928b51464b87a8724897a134f1",
      "afaaa70c939f42be8a563d1933e9d414",
      "1c6e6e81041440828e698c36c35f5701",
      "5ea6369abd7d4199bea283c7543fba3b",
      "14a5b76611984398b952198cbb4087c1",
      "c4373f4138df458eb06eddb9dc386313"
     ]
    },
    "id": "SqxlYp3wMMaQ",
    "outputId": "7c918505-2767-4121-f246-6ed66f1fcf0e"
   },
   "outputs": [
    {
     "data": {
      "application/vnd.jupyter.widget-view+json": {
       "model_id": "4f05fcdd8b914a9c8319fe659d130bbc",
       "version_major": 2,
       "version_minor": 0
      },
      "text/plain": [
       "Downloading (…)okenizer_config.json:   0%|          | 0.00/174 [00:00<?, ?B/s]"
      ]
     },
     "metadata": {},
     "output_type": "display_data"
    },
    {
     "data": {
      "application/vnd.jupyter.widget-view+json": {
       "model_id": "3e3a19e642324b10a18821e5aff444b6",
       "version_major": 2,
       "version_minor": 0
      },
      "text/plain": [
       "Downloading (…)lve/main/config.json:   0%|          | 0.00/811 [00:00<?, ?B/s]"
      ]
     },
     "metadata": {},
     "output_type": "display_data"
    },
    {
     "data": {
      "application/vnd.jupyter.widget-view+json": {
       "model_id": "4f865b2dd68044fe853f1751a0fb0ccb",
       "version_major": 2,
       "version_minor": 0
      },
      "text/plain": [
       "Downloading (…)solve/main/vocab.txt:   0%|          | 0.00/232k [00:00<?, ?B/s]"
      ]
     },
     "metadata": {},
     "output_type": "display_data"
    },
    {
     "data": {
      "application/vnd.jupyter.widget-view+json": {
       "model_id": "a1c14aab88a54eeda5edfc5a08255f0d",
       "version_major": 2,
       "version_minor": 0
      },
      "text/plain": [
       "Downloading (…)cial_tokens_map.json:   0%|          | 0.00/112 [00:00<?, ?B/s]"
      ]
     },
     "metadata": {},
     "output_type": "display_data"
    }
   ],
   "source": [
    "tokenizer = AutoTokenizer.from_pretrained('unitary/toxic-bert')"
   ]
  },
  {
   "cell_type": "code",
   "execution_count": 55,
   "metadata": {
    "id": "qjpqnVdZs7lP"
   },
   "outputs": [],
   "source": [
    "tokenized = data['text'].apply(lambda x: tokenizer.encode(x, add_special_tokens=True, max_length=512, truncation=True))"
   ]
  },
  {
   "cell_type": "markdown",
   "metadata": {
    "id": "XSG3LL6LhUC9"
   },
   "source": [
    "Данные токенизированы."
   ]
  },
  {
   "cell_type": "markdown",
   "metadata": {
    "id": "1Cg2g63bbE6a"
   },
   "source": [
    "3. Расчет максимальной длины токена"
   ]
  },
  {
   "cell_type": "code",
   "execution_count": 56,
   "metadata": {
    "id": "uAv1qAd9td8F"
   },
   "outputs": [],
   "source": [
    "max_len = max([len(i) for i in tokenized.values])"
   ]
  },
  {
   "cell_type": "markdown",
   "metadata": {
    "id": "9GpSbMBlbM7G"
   },
   "source": [
    "4. Создание маски токенов"
   ]
  },
  {
   "cell_type": "code",
   "execution_count": 57,
   "metadata": {
    "id": "4-iZgvktyeAo"
   },
   "outputs": [],
   "source": [
    "padded = np.array([i + [0] * (max_len - len(i)) for i in tokenized.values])"
   ]
  },
  {
   "cell_type": "code",
   "execution_count": 58,
   "metadata": {
    "id": "D-i7WXTQt47g"
   },
   "outputs": [],
   "source": [
    "attention_mask = np.where(padded != 0, 1, 0)"
   ]
  },
  {
   "cell_type": "markdown",
   "metadata": {
    "id": "TEp5ySk1hcdq"
   },
   "source": [
    "Маска токенов создана."
   ]
  },
  {
   "cell_type": "markdown",
   "metadata": {
    "id": "IJPYDvFybYR0"
   },
   "source": [
    "5. Загрузка предобученной модели"
   ]
  },
  {
   "cell_type": "code",
   "execution_count": 59,
   "metadata": {
    "colab": {
     "base_uri": "https://localhost:8080/",
     "height": 126,
     "referenced_widgets": [
      "3c3e9627030f478b8d4230ddab7818f7",
      "3cabfb056b5f4343ba0b42068e188b3c",
      "ba2fd2020f264ffb95a6dc8bbf1482a9",
      "c6f9f054a7c94ea397049ef7d76e45e0",
      "e4dbd63f278b4bec98a0a04d32f1ee76",
      "2ee8c1fe1f324c3ebff8ac7b71e6ce5c",
      "4137923ed9fd44acbdd6df28bf7efbea",
      "4f9b08dcbfc64fb68196f2447926eac1",
      "5653482339bb4920b476a925223303d5",
      "6e172f02206c45e1b55b1da5b7281844",
      "43ac93364d424278941592fc732ba45d"
     ]
    },
    "id": "c7pkS140Zpyt",
    "outputId": "5b1ad4b5-a60d-452a-c989-529ade3eba40"
   },
   "outputs": [
    {
     "data": {
      "application/vnd.jupyter.widget-view+json": {
       "model_id": "3c3e9627030f478b8d4230ddab7818f7",
       "version_major": 2,
       "version_minor": 0
      },
      "text/plain": [
       "Downloading (…)\"pytorch_model.bin\";:   0%|          | 0.00/438M [00:00<?, ?B/s]"
      ]
     },
     "metadata": {},
     "output_type": "display_data"
    },
    {
     "name": "stderr",
     "output_type": "stream",
     "text": [
      "Some weights of the model checkpoint at unitary/toxic-bert were not used when initializing BertModel: ['classifier.weight', 'classifier.bias']\n",
      "- This IS expected if you are initializing BertModel from the checkpoint of a model trained on another task or with another architecture (e.g. initializing a BertForSequenceClassification model from a BertForPreTraining model).\n",
      "- This IS NOT expected if you are initializing BertModel from the checkpoint of a model that you expect to be exactly identical (initializing a BertForSequenceClassification model from a BertForSequenceClassification model).\n"
     ]
    }
   ],
   "source": [
    "model = AutoModel.from_pretrained('unitary/toxic-bert')\n",
    "model = model.to(device)"
   ]
  },
  {
   "cell_type": "markdown",
   "metadata": {
    "id": "3RpGCmwwbewZ"
   },
   "source": [
    "6. Векторизация токенов"
   ]
  },
  {
   "cell_type": "code",
   "execution_count": 60,
   "metadata": {
    "colab": {
     "base_uri": "https://localhost:8080/",
     "height": 49,
     "referenced_widgets": [
      "7643ea59461942c48488510272caa4d9",
      "38595461ebb04b2a9da7f7cf80e14e5d",
      "cdb170496a804fd59a3eef2c589e5766",
      "b324916ce9a34d99b19098ffe3376617",
      "d781eb1502ef408cb91e9e9feb84c734",
      "a6dd6f684efc4d8989586fb6d99e85c3",
      "0c0afa3bb165400a8639e6e18ac08347",
      "41d0674b85934e8d8aa4a03b31d30479",
      "6706edaa34ce40ecb7bc32276b864317",
      "fae2bc05c68a4e248fb9f1bc3d36dd5d",
      "a6c838d1a5134c08b08f953272370f64"
     ]
    },
    "id": "rOUMzv3GNziP",
    "outputId": "315b4889-2a33-49f0-b7c6-19838b39ace0"
   },
   "outputs": [
    {
     "data": {
      "application/vnd.jupyter.widget-view+json": {
       "model_id": "7643ea59461942c48488510272caa4d9",
       "version_major": 2,
       "version_minor": 0
      },
      "text/plain": [
       "  0%|          | 0/311 [00:00<?, ?it/s]"
      ]
     },
     "metadata": {},
     "output_type": "display_data"
    }
   ],
   "source": [
    "batch_size = 512\n",
    "embeddings = []\n",
    "for i in notebook.tqdm(range(padded.shape[0] // batch_size)):\n",
    "    batch = padded[batch_size * i:batch_size * (i + 1)]\n",
    "    attention_mask_batch = attention_mask[batch_size * i:batch_size * (i + 1)]\n",
    "    seq_length = batch.shape[1]\n",
    "    \n",
    "    with torch.no_grad():\n",
    "        batch = torch.LongTensor(batch).to(device)\n",
    "        attention_mask_batch = torch.LongTensor(attention_mask_batch).to(device)\n",
    "        batch_embeddings = model(batch, attention_mask=attention_mask_batch)\n",
    "    \n",
    "    embeddings.append(batch_embeddings[0][:, 0, :].cpu().numpy())"
   ]
  },
  {
   "cell_type": "markdown",
   "metadata": {
    "id": "0pv9yeCkhgTM"
   },
   "source": [
    "Стоит отметить, что во-первых представленные на эксперимент текск был принудительно урезан в процессе токенизации; во-вторых, векторизация проводиться по батчам в виду ограниченности имеющихся ресурсов, в связи с чем часть данных (наблюдений) потерена.\n",
    "\n",
    "Таким образом, использщование модели BERT для векторизации на данном датасете не целесообразно и рассматривается из методических целей."
   ]
  },
  {
   "cell_type": "markdown",
   "metadata": {
    "id": "WjZYVjA1bimR"
   },
   "source": [
    "7. Получение признаков и лейблов"
   ]
  },
  {
   "cell_type": "code",
   "execution_count": 61,
   "metadata": {
    "id": "D_7IEArGuCPZ"
   },
   "outputs": [],
   "source": [
    "features = np.concatenate(embeddings)"
   ]
  },
  {
   "cell_type": "code",
   "execution_count": 62,
   "metadata": {
    "id": "sDC7Aa32PXfN"
   },
   "outputs": [],
   "source": [
    "target = data['toxic'][:features.shape[0]]"
   ]
  },
  {
   "cell_type": "markdown",
   "metadata": {
    "id": "B7QrU20MbqAm"
   },
   "source": [
    "8. Сплит данных"
   ]
  },
  {
   "cell_type": "code",
   "execution_count": 63,
   "metadata": {
    "id": "X2KCiyZ-3hF6"
   },
   "outputs": [],
   "source": [
    "bert_text_train, bert_text_test, bert_labels_train, bert_labels_test = train_test_split(features, \n",
    "                                                                                        target, \n",
    "                                                                                        test_size=.2, \n",
    "                                                                                        stratify=target, \n",
    "                                                                                        random_state=42)"
   ]
  },
  {
   "cell_type": "markdown",
   "metadata": {
    "id": "Ar2e1MLTchoR"
   },
   "source": [
    "### Пайплайн векторизации, обучения и валидации моделей"
   ]
  },
  {
   "cell_type": "code",
   "execution_count": 64,
   "metadata": {
    "id": "wqArMUN2choR"
   },
   "outputs": [],
   "source": [
    "lr_clf_bert_pipe = Pipeline([\n",
    "    ('lr_clf', LogisticRegression(max_iter=1000, random_state=42))\n",
    "])\n",
    "\n",
    "cb_clf_bert_pipe = Pipeline([\n",
    "    ('cb_clf', CatBoostClassifier(silent=True, task_type='GPU'))\n",
    "])\n",
    "\n",
    "lr_clf_bert_params = {}\n",
    "\n",
    "cb_clf_bert_params = {}\n",
    "\n",
    "lr_clf_bert_search = GridSearchCV(lr_clf_bert_pipe, lr_clf_bert_params, cv=3, scoring='f1')\n",
    "cb_clf_bert_search = GridSearchCV(cb_clf_bert_pipe, cb_clf_bert_params, cv=3, scoring='f1')"
   ]
  },
  {
   "cell_type": "markdown",
   "metadata": {
    "id": "X0x6oW1AchoR"
   },
   "source": [
    "### Обучение моделей"
   ]
  },
  {
   "cell_type": "markdown",
   "metadata": {
    "id": "P-mGP4-_bs69"
   },
   "source": [
    "#### Логистическая регрессия, признаки - BERT"
   ]
  },
  {
   "cell_type": "code",
   "execution_count": 67,
   "metadata": {
    "colab": {
     "base_uri": "https://localhost:8080/"
    },
    "id": "Am4QO3Pk9kVN",
    "outputId": "5cf58c97-582f-421e-a118-10ae78f459fd"
   },
   "outputs": [
    {
     "name": "stdout",
     "output_type": "stream",
     "text": [
      "CPU times: user 20min 7s, sys: 6min 52s, total: 27min\n",
      "Wall time: 2min 20s\n"
     ]
    },
    {
     "data": {
      "text/plain": [
       "GridSearchCV(cv=3,\n",
       "             estimator=Pipeline(steps=[('lr_clf',\n",
       "                                        LogisticRegression(max_iter=1000,\n",
       "                                                           random_state=42))]),\n",
       "             param_grid={}, scoring='f1')"
      ]
     },
     "execution_count": 67,
     "metadata": {},
     "output_type": "execute_result"
    }
   ],
   "source": [
    "%%time\n",
    "\n",
    "lr_clf_bert_search.fit(bert_text_train, bert_labels_train)"
   ]
  },
  {
   "cell_type": "markdown",
   "metadata": {
    "id": "ommsLoODEtBe"
   },
   "source": [
    "Стоит отметить, что алгоритм оптимизации, используемый в логистической регрессии (L-BFGS), не сошелся к решению задачи, количество итераций, выполненных алгоритмом, достигло максимально допустимого значения.\n",
    "\n",
    "Решением может быть, как увеличение количествф итераций, так и масштабирование данные."
   ]
  },
  {
   "cell_type": "markdown",
   "metadata": {
    "id": "HqcQbpGPbwdu"
   },
   "source": [
    "#### Модель на основе градиентного бустинга, признаки - BERT"
   ]
  },
  {
   "cell_type": "code",
   "execution_count": 70,
   "metadata": {
    "colab": {
     "base_uri": "https://localhost:8080/"
    },
    "id": "V6Vi5oBi9udq",
    "outputId": "4277fea6-7b0c-4d3c-93bc-d1e1617a330e"
   },
   "outputs": [
    {
     "name": "stderr",
     "output_type": "stream",
     "text": [
      "Warning: less than 75% gpu memory available for training. Free: 20014.125 Total: 40536.125\n",
      "Warning: less than 75% gpu memory available for training. Free: 20014.125 Total: 40536.125\n",
      "Warning: less than 75% gpu memory available for training. Free: 20014.125 Total: 40536.125\n",
      "Warning: less than 75% gpu memory available for training. Free: 20014.125 Total: 40536.125\n"
     ]
    },
    {
     "name": "stdout",
     "output_type": "stream",
     "text": [
      "CPU times: user 2min, sys: 27.7 s, total: 2min 28s\n",
      "Wall time: 52.3 s\n"
     ]
    },
    {
     "data": {
      "text/plain": [
       "GridSearchCV(cv=3,\n",
       "             estimator=Pipeline(steps=[('cb_clf',\n",
       "                                        <catboost.core.CatBoostClassifier object at 0x7fa567dffe50>)]),\n",
       "             param_grid={}, scoring='f1')"
      ]
     },
     "execution_count": 70,
     "metadata": {},
     "output_type": "execute_result"
    }
   ],
   "source": [
    "%%time\n",
    "\n",
    "cb_clf_bert_search.fit(bert_text_train, bert_labels_train)"
   ]
  },
  {
   "cell_type": "markdown",
   "metadata": {
    "id": "M8X3rVyV92ng"
   },
   "source": [
    "### Оценка качества моделей"
   ]
  },
  {
   "cell_type": "code",
   "execution_count": 71,
   "metadata": {
    "colab": {
     "base_uri": "https://localhost:8080/"
    },
    "id": "lqaFy9EG95XK",
    "outputId": "28a5cb66-5ce3-4709-e90b-1676bf165c02"
   },
   "outputs": [
    {
     "name": "stdout",
     "output_type": "stream",
     "text": [
      "LogisticRegression BERT F1-score: 0.95\n",
      "CatBoostClassifier BERT F1-score: 0.95\n"
     ]
    }
   ],
   "source": [
    "print(f'LogisticRegression BERT F1-score: {lr_clf_bert_search.best_score_:.2f}')\n",
    "print(f'CatBoostClassifier BERT F1-score: {cb_clf_bert_search.best_score_:.2f}')"
   ]
  },
  {
   "cell_type": "markdown",
   "metadata": {
    "id": "DKYuuZRn-UTr"
   },
   "source": [
    "## Тестирование оптимальной модели"
   ]
  },
  {
   "cell_type": "code",
   "execution_count": 74,
   "metadata": {
    "colab": {
     "base_uri": "https://localhost:8080/"
    },
    "id": "4Q6hnVeY-TuV",
    "outputId": "b4820467-52c9-4296-abfd-5302374a9a61"
   },
   "outputs": [
    {
     "name": "stdout",
     "output_type": "stream",
     "text": [
      "F1_score на тесте: 0.95.\n"
     ]
    }
   ],
   "source": [
    "best_model = lr_clf_bert_search.best_estimator_\n",
    "labels_pred = best_model.predict(bert_text_test)\n",
    "\n",
    "print(f'F1_score на тесте: {f1_score(bert_labels_test, labels_pred):.2f}.')"
   ]
  },
  {
   "cell_type": "markdown",
   "metadata": {
    "id": "wyo3TVvtgDTE"
   },
   "source": [
    "## Выводы"
   ]
  },
  {
   "cell_type": "markdown",
   "metadata": {
    "id": "8YPfQ-Ubisnq"
   },
   "source": [
    "1. Решить поставленую задачу - получить значение метрики качеста F1 более 0,75 смога модель логистической регресии на векторах BOW и TF-IDF со стоп-словами и без N-грамм и модели логистической регресии и градиентного бустинга на векторах BERT.\n",
    "\n",
    "Тестировалась модель логистической регресии, обученная на векторах BERT. Итоговая метрика F1 - 0,95.\n",
    "\n",
    "2. В качестве эксперимента на усеченной выборки производилась подборка диапазона N-грамм и гиперпараметров логистической регресси. Изменение диапазона N-грамм и подбор гиперпараметров логистической регресии прироста качества не принес. Модели рассмотрены в методических целях.\n",
    "\n",
    "3. Вектория методами BOW и TF-IDF целесообразно проводить с использованием пайплайнов для избежания утечки данных при обучении векторайзеров и трансформации текста, что и было реализовано в Проекте. \n",
    "\n",
    "4. Векторизация преобученной моедлью BERT на представленном наборе текстов признана не целесообразна из-за \"чрезмерной\" длинны комментариев и рассмотрена автором в методических целях.\n",
    "\n",
    "5. Метрики моделей логистической регрессии и градиентного бустинга, обученные на векторах модели BERT показали метрики ниже необходимого уровня в виду усечения, как самого текста в процессе векторизации, так и количества наблюдений. Модели рассмотрены в методических целях."
   ]
  }
 ],
 "metadata": {
  "ExecuteTimeLog": [
   {
    "duration": 409,
    "start_time": "2023-02-08T07:03:47.776Z"
   },
   {
    "duration": 2424,
    "start_time": "2023-02-08T07:04:27.767Z"
   },
   {
    "duration": 64,
    "start_time": "2023-02-08T07:04:50.153Z"
   },
   {
    "duration": 786,
    "start_time": "2023-02-08T07:05:19.808Z"
   },
   {
    "duration": 916,
    "start_time": "2023-02-08T07:07:11.088Z"
   },
   {
    "duration": 1969,
    "start_time": "2023-02-08T07:08:43.727Z"
   },
   {
    "duration": 366,
    "start_time": "2023-02-08T07:13:41.727Z"
   },
   {
    "duration": 61,
    "start_time": "2023-02-08T07:14:11.258Z"
   },
   {
    "duration": 3,
    "start_time": "2023-02-08T07:14:18.672Z"
   },
   {
    "duration": 5,
    "start_time": "2023-02-08T07:14:19.573Z"
   },
   {
    "duration": 817,
    "start_time": "2023-02-08T07:14:20.291Z"
   },
   {
    "duration": 1324,
    "start_time": "2023-02-08T07:14:38.010Z"
   },
   {
    "duration": 325,
    "start_time": "2023-02-08T07:14:39.336Z"
   },
   {
    "duration": 2401,
    "start_time": "2023-02-08T07:14:39.665Z"
   },
   {
    "duration": 1989,
    "start_time": "2023-02-08T07:14:42.069Z"
   },
   {
    "duration": 7,
    "start_time": "2023-02-08T07:14:44.060Z"
   },
   {
    "duration": 125,
    "start_time": "2023-02-08T07:15:46.815Z"
   },
   {
    "duration": 4,
    "start_time": "2023-02-08T07:16:05.432Z"
   },
   {
    "duration": 20,
    "start_time": "2023-02-08T07:16:06.111Z"
   },
   {
    "duration": 31,
    "start_time": "2023-02-08T09:20:36.602Z"
   },
   {
    "duration": 3,
    "start_time": "2023-02-08T09:20:39.135Z"
   },
   {
    "duration": 15,
    "start_time": "2023-02-08T09:20:41.032Z"
   },
   {
    "duration": 4,
    "start_time": "2023-02-08T09:21:02.814Z"
   },
   {
    "duration": 16,
    "start_time": "2023-02-08T09:21:03.362Z"
   },
   {
    "duration": 1376,
    "start_time": "2023-02-08T09:21:14.647Z"
   },
   {
    "duration": 279,
    "start_time": "2023-02-08T09:21:16.025Z"
   },
   {
    "duration": 923,
    "start_time": "2023-02-08T09:21:16.306Z"
   },
   {
    "duration": 37,
    "start_time": "2023-02-08T09:21:17.231Z"
   },
   {
    "duration": 4,
    "start_time": "2023-02-08T09:21:17.271Z"
   },
   {
    "duration": 150,
    "start_time": "2023-02-08T09:21:17.277Z"
   },
   {
    "duration": 3,
    "start_time": "2023-02-08T09:23:01.062Z"
   },
   {
    "duration": 15,
    "start_time": "2023-02-08T09:23:25.268Z"
   },
   {
    "duration": 39,
    "start_time": "2023-02-08T09:23:50.496Z"
   },
   {
    "duration": 6,
    "start_time": "2023-02-08T09:24:09.570Z"
   },
   {
    "duration": 100,
    "start_time": "2023-02-08T09:24:19.641Z"
   },
   {
    "duration": 19,
    "start_time": "2023-02-08T09:24:29.693Z"
   },
   {
    "duration": 4,
    "start_time": "2023-02-08T09:28:07.494Z"
   },
   {
    "duration": 5,
    "start_time": "2023-02-08T09:28:12.490Z"
   },
   {
    "duration": 6,
    "start_time": "2023-02-08T09:28:28.669Z"
   },
   {
    "duration": 4,
    "start_time": "2023-02-08T09:32:06.421Z"
   },
   {
    "duration": 93201,
    "start_time": "2023-02-08T09:32:47.716Z"
   },
   {
    "duration": 20,
    "start_time": "2023-02-08T09:34:26.843Z"
   },
   {
    "duration": 6,
    "start_time": "2023-02-08T09:38:04.565Z"
   },
   {
    "duration": 7,
    "start_time": "2023-02-08T09:38:16.788Z"
   },
   {
    "duration": 10,
    "start_time": "2023-02-08T09:40:02.508Z"
   },
   {
    "duration": 10,
    "start_time": "2023-02-08T09:40:39.833Z"
   },
   {
    "duration": 3,
    "start_time": "2023-02-08T09:41:03.495Z"
   },
   {
    "duration": 7129,
    "start_time": "2023-02-08T09:41:08.555Z"
   },
   {
    "duration": 4,
    "start_time": "2023-02-08T09:41:21.799Z"
   },
   {
    "duration": 3,
    "start_time": "2023-02-08T09:43:12.674Z"
   },
   {
    "duration": 9,
    "start_time": "2023-02-08T09:44:13.028Z"
   },
   {
    "duration": 3,
    "start_time": "2023-02-08T09:44:35.180Z"
   },
   {
    "duration": 28,
    "start_time": "2023-02-08T09:44:39.215Z"
   },
   {
    "duration": 7036,
    "start_time": "2023-02-08T09:45:38.555Z"
   },
   {
    "duration": 9,
    "start_time": "2023-02-08T09:45:47.545Z"
   },
   {
    "duration": 31,
    "start_time": "2023-02-08T09:45:52.092Z"
   },
   {
    "duration": 11,
    "start_time": "2023-02-08T09:45:52.510Z"
   },
   {
    "duration": 1340,
    "start_time": "2023-02-08T09:46:31.431Z"
   },
   {
    "duration": 203,
    "start_time": "2023-02-08T09:46:32.773Z"
   },
   {
    "duration": 881,
    "start_time": "2023-02-08T09:46:32.978Z"
   },
   {
    "duration": 4,
    "start_time": "2023-02-08T09:46:33.862Z"
   },
   {
    "duration": 86299,
    "start_time": "2023-02-08T09:46:33.868Z"
   },
   {
    "duration": 7,
    "start_time": "2023-02-08T09:48:00.168Z"
   },
   {
    "duration": 15,
    "start_time": "2023-02-08T09:48:00.177Z"
   },
   {
    "duration": 52,
    "start_time": "2023-02-08T09:48:00.194Z"
   },
   {
    "duration": 6966,
    "start_time": "2023-02-08T09:48:00.248Z"
   },
   {
    "duration": 4,
    "start_time": "2023-02-08T09:48:35.754Z"
   },
   {
    "duration": 1339,
    "start_time": "2023-02-08T09:54:01.938Z"
   },
   {
    "duration": 117,
    "start_time": "2023-02-08T09:54:38.245Z"
   },
   {
    "duration": 18,
    "start_time": "2023-02-08T09:54:50.039Z"
   },
   {
    "duration": 3,
    "start_time": "2023-02-08T09:54:56.262Z"
   },
   {
    "duration": 430,
    "start_time": "2023-02-08T09:54:56.268Z"
   },
   {
    "duration": 2545,
    "start_time": "2023-02-08T09:54:56.702Z"
   },
   {
    "duration": 4,
    "start_time": "2023-02-08T09:54:59.249Z"
   },
   {
    "duration": 1286,
    "start_time": "2023-02-08T09:55:49.788Z"
   },
   {
    "duration": 195,
    "start_time": "2023-02-08T09:55:51.076Z"
   },
   {
    "duration": 896,
    "start_time": "2023-02-08T09:55:51.272Z"
   },
   {
    "duration": 4,
    "start_time": "2023-02-08T09:55:52.170Z"
   },
   {
    "duration": 84996,
    "start_time": "2023-02-08T09:55:52.176Z"
   },
   {
    "duration": 7,
    "start_time": "2023-02-08T09:57:17.173Z"
   },
   {
    "duration": 6,
    "start_time": "2023-02-08T09:57:17.182Z"
   },
   {
    "duration": 29,
    "start_time": "2023-02-08T09:57:17.189Z"
   },
   {
    "duration": 6775,
    "start_time": "2023-02-08T09:57:17.220Z"
   },
   {
    "duration": 61157,
    "start_time": "2023-02-08T09:57:23.997Z"
   },
   {
    "duration": 7,
    "start_time": "2023-02-08T09:59:37.798Z"
   },
   {
    "duration": 13,
    "start_time": "2023-02-08T10:01:00.136Z"
   },
   {
    "duration": 2019,
    "start_time": "2023-02-08T10:02:03.730Z"
   },
   {
    "duration": 3959,
    "start_time": "2023-02-11T15:01:34.816Z"
   },
   {
    "duration": 1939,
    "start_time": "2023-02-11T15:01:40.811Z"
   },
   {
    "duration": 4,
    "start_time": "2023-02-11T15:01:42.752Z"
   },
   {
    "duration": 310,
    "start_time": "2023-02-11T15:02:12.996Z"
   },
   {
    "duration": 2,
    "start_time": "2023-02-11T15:02:28.792Z"
   },
   {
    "duration": 2272,
    "start_time": "2023-02-11T15:02:33.232Z"
   },
   {
    "duration": 12,
    "start_time": "2023-02-11T15:02:36.385Z"
   },
   {
    "duration": 2430,
    "start_time": "2023-02-11T15:17:54.793Z"
   },
   {
    "duration": 706,
    "start_time": "2023-02-11T15:18:04.428Z"
   },
   {
    "duration": 95,
    "start_time": "2023-02-11T15:19:11.125Z"
   },
   {
    "duration": 545,
    "start_time": "2023-02-11T15:19:45.167Z"
   },
   {
    "duration": 2173,
    "start_time": "2023-02-11T15:31:05.200Z"
   },
   {
    "duration": 2020,
    "start_time": "2023-02-11T15:31:07.375Z"
   },
   {
    "duration": 2014,
    "start_time": "2023-02-11T15:31:09.397Z"
   },
   {
    "duration": 2046,
    "start_time": "2023-02-11T15:31:11.413Z"
   },
   {
    "duration": 3,
    "start_time": "2023-02-11T15:31:13.463Z"
   },
   {
    "duration": 4551,
    "start_time": "2023-02-11T15:31:13.468Z"
   },
   {
    "duration": 259,
    "start_time": "2023-02-11T15:31:18.020Z"
   },
   {
    "duration": 4,
    "start_time": "2023-02-11T15:31:18.281Z"
   },
   {
    "duration": 7,
    "start_time": "2023-02-11T15:31:18.287Z"
   },
   {
    "duration": 767,
    "start_time": "2023-02-11T15:31:18.295Z"
   },
   {
    "duration": 9,
    "start_time": "2023-02-11T15:31:19.064Z"
   },
   {
    "duration": 3,
    "start_time": "2023-02-11T15:31:19.075Z"
   },
   {
    "duration": 464,
    "start_time": "2023-02-11T15:31:19.079Z"
   },
   {
    "duration": 390,
    "start_time": "2023-02-11T15:31:54.719Z"
   },
   {
    "duration": 94,
    "start_time": "2023-02-11T15:32:23.404Z"
   },
   {
    "duration": 26,
    "start_time": "2023-02-11T15:33:47.898Z"
   },
   {
    "duration": 2111,
    "start_time": "2023-02-11T15:35:27.831Z"
   },
   {
    "duration": 30,
    "start_time": "2023-02-11T15:35:33.947Z"
   },
   {
    "duration": 2854,
    "start_time": "2023-02-11T15:35:49.491Z"
   },
   {
    "duration": 32,
    "start_time": "2023-02-11T15:36:00.342Z"
   },
   {
    "duration": 2004,
    "start_time": "2023-02-11T15:36:27.039Z"
   },
   {
    "duration": 2083,
    "start_time": "2023-02-11T15:36:30.274Z"
   },
   {
    "duration": 2067,
    "start_time": "2023-02-11T15:36:32.935Z"
   },
   {
    "duration": 2077,
    "start_time": "2023-02-11T15:36:35.709Z"
   },
   {
    "duration": 1963,
    "start_time": "2023-02-11T15:36:38.462Z"
   },
   {
    "duration": 3631,
    "start_time": "2023-02-11T15:36:44.540Z"
   },
   {
    "duration": 2433,
    "start_time": "2023-02-11T15:37:16.043Z"
   },
   {
    "duration": 27,
    "start_time": "2023-02-11T15:37:22.989Z"
   },
   {
    "duration": 2052,
    "start_time": "2023-02-11T15:37:41.802Z"
   },
   {
    "duration": 2088,
    "start_time": "2023-02-11T15:37:45.116Z"
   },
   {
    "duration": 2077,
    "start_time": "2023-02-11T15:37:47.888Z"
   },
   {
    "duration": 2063,
    "start_time": "2023-02-11T15:37:50.659Z"
   },
   {
    "duration": 2249,
    "start_time": "2023-02-11T15:37:53.452Z"
   },
   {
    "duration": 3538,
    "start_time": "2023-02-11T15:37:59.683Z"
   },
   {
    "duration": 1188,
    "start_time": "2023-02-11T15:44:34.549Z"
   },
   {
    "duration": 64,
    "start_time": "2023-02-11T15:44:44.676Z"
   },
   {
    "duration": 3,
    "start_time": "2023-02-11T15:45:48.794Z"
   },
   {
    "duration": 297,
    "start_time": "2023-02-11T15:45:50.051Z"
   },
   {
    "duration": 4,
    "start_time": "2023-02-11T15:45:52.848Z"
   },
   {
    "duration": 2,
    "start_time": "2023-02-11T15:45:54.182Z"
   },
   {
    "duration": 781,
    "start_time": "2023-02-11T15:45:56.088Z"
   },
   {
    "duration": 10,
    "start_time": "2023-02-11T15:45:56.871Z"
   },
   {
    "duration": 3,
    "start_time": "2023-02-11T15:45:59.746Z"
   },
   {
    "duration": 488,
    "start_time": "2023-02-11T15:46:02.604Z"
   },
   {
    "duration": 3,
    "start_time": "2023-02-11T15:46:04.433Z"
   },
   {
    "duration": 2249,
    "start_time": "2023-02-11T15:48:51.147Z"
   },
   {
    "duration": 2174,
    "start_time": "2023-02-11T15:48:53.399Z"
   },
   {
    "duration": 2162,
    "start_time": "2023-02-11T15:48:55.575Z"
   },
   {
    "duration": 2190,
    "start_time": "2023-02-11T15:48:57.740Z"
   },
   {
    "duration": 2291,
    "start_time": "2023-02-11T15:48:59.932Z"
   },
   {
    "duration": 4,
    "start_time": "2023-02-11T15:49:02.225Z"
   },
   {
    "duration": 4937,
    "start_time": "2023-02-11T15:49:02.230Z"
   },
   {
    "duration": 243,
    "start_time": "2023-02-11T15:49:07.169Z"
   },
   {
    "duration": 5,
    "start_time": "2023-02-11T15:49:07.414Z"
   },
   {
    "duration": 6,
    "start_time": "2023-02-11T15:49:07.421Z"
   },
   {
    "duration": 845,
    "start_time": "2023-02-11T15:49:07.428Z"
   },
   {
    "duration": 13,
    "start_time": "2023-02-11T15:49:08.275Z"
   },
   {
    "duration": 3,
    "start_time": "2023-02-11T15:49:08.289Z"
   },
   {
    "duration": 517,
    "start_time": "2023-02-11T15:49:08.293Z"
   },
   {
    "duration": 2,
    "start_time": "2023-02-11T15:49:08.811Z"
   },
   {
    "duration": 3,
    "start_time": "2023-02-11T15:49:19.595Z"
   },
   {
    "duration": 451,
    "start_time": "2023-02-11T15:49:20.244Z"
   },
   {
    "duration": 4,
    "start_time": "2023-02-11T15:50:26.589Z"
   },
   {
    "duration": 99,
    "start_time": "2023-02-11T15:50:30.720Z"
   },
   {
    "duration": 4,
    "start_time": "2023-02-11T15:51:27.916Z"
   },
   {
    "duration": 2393739,
    "start_time": "2023-02-11T15:51:33.019Z"
   },
   {
    "duration": 8,
    "start_time": "2023-02-11T16:32:19.683Z"
   },
   {
    "duration": 18,
    "start_time": "2023-02-11T16:32:28.206Z"
   },
   {
    "duration": 26,
    "start_time": "2023-02-11T16:32:34.047Z"
   },
   {
    "duration": 3021,
    "start_time": "2023-02-11T16:33:06.013Z"
   },
   {
    "duration": 479,
    "start_time": "2023-02-11T16:33:12.732Z"
   },
   {
    "duration": 196,
    "start_time": "2023-02-11T16:33:18.907Z"
   },
   {
    "duration": 671,
    "start_time": "2023-02-11T16:33:21.592Z"
   },
   {
    "duration": 793,
    "start_time": "2023-02-11T16:34:00.086Z"
   },
   {
    "duration": 6,
    "start_time": "2023-02-11T16:34:55.722Z"
   },
   {
    "duration": 74,
    "start_time": "2023-02-11T16:35:22.243Z"
   },
   {
    "duration": 38660,
    "start_time": "2023-02-11T16:37:01.410Z"
   },
   {
    "duration": 111,
    "start_time": "2023-02-11T16:37:54.185Z"
   },
   {
    "duration": 135,
    "start_time": "2023-02-11T16:38:04.266Z"
   },
   {
    "duration": 1417,
    "start_time": "2023-02-11T16:38:08.073Z"
   },
   {
    "duration": 1914,
    "start_time": "2023-02-11T16:38:35.825Z"
   },
   {
    "duration": 2847,
    "start_time": "2023-02-11T16:38:47.150Z"
   },
   {
    "duration": 7654,
    "start_time": "2023-02-11T16:39:23.045Z"
   },
   {
    "duration": 532,
    "start_time": "2023-02-11T16:39:32.167Z"
   },
   {
    "duration": 213,
    "start_time": "2023-02-11T16:46:00.797Z"
   },
   {
    "duration": 5,
    "start_time": "2023-02-11T16:46:11.671Z"
   },
   {
    "duration": 6,
    "start_time": "2023-02-11T16:46:14.088Z"
   },
   {
    "duration": 5,
    "start_time": "2023-02-11T16:46:15.217Z"
   },
   {
    "duration": 649,
    "start_time": "2023-02-11T16:46:21.318Z"
   },
   {
    "duration": 195,
    "start_time": "2023-02-11T16:46:25.552Z"
   },
   {
    "duration": 3917,
    "start_time": "2023-02-11T16:46:26.678Z"
   },
   {
    "duration": 1076,
    "start_time": "2023-02-11T16:46:30.597Z"
   },
   {
    "duration": 661,
    "start_time": "2023-02-11T16:48:37.916Z"
   },
   {
    "duration": 645,
    "start_time": "2023-02-11T16:48:53.979Z"
   },
   {
    "duration": 529,
    "start_time": "2023-02-11T16:49:47.097Z"
   },
   {
    "duration": 917,
    "start_time": "2023-02-11T16:50:40.750Z"
   },
   {
    "duration": 29791,
    "start_time": "2023-02-11T16:50:52.658Z"
   },
   {
    "duration": 349,
    "start_time": "2023-02-11T16:51:48.465Z"
   },
   {
    "duration": 416,
    "start_time": "2023-02-11T16:52:36.297Z"
   },
   {
    "duration": 741,
    "start_time": "2023-02-11T16:52:50.244Z"
   },
   {
    "duration": 643,
    "start_time": "2023-02-11T16:55:55.030Z"
   },
   {
    "duration": 601,
    "start_time": "2023-02-11T16:58:48.411Z"
   },
   {
    "duration": 24,
    "start_time": "2023-02-11T17:11:16.086Z"
   },
   {
    "duration": 59,
    "start_time": "2023-02-11T17:15:04.267Z"
   },
   {
    "duration": 6865,
    "start_time": "2023-02-11T17:25:18.268Z"
   },
   {
    "duration": 7370,
    "start_time": "2023-02-11T17:25:39.727Z"
   },
   {
    "duration": 269403,
    "start_time": "2023-02-11T17:25:56.574Z"
   }
  ],
  "accelerator": "GPU",
  "colab": {
   "machine_shape": "hm",
   "provenance": []
  },
  "gpuClass": "premium",
  "kernelspec": {
   "display_name": "Python 3 (ipykernel)",
   "language": "python",
   "name": "python3"
  },
  "language_info": {
   "codemirror_mode": {
    "name": "ipython",
    "version": 3
   },
   "file_extension": ".py",
   "mimetype": "text/x-python",
   "name": "python",
   "nbconvert_exporter": "python",
   "pygments_lexer": "ipython3",
   "version": "3.9.13"
  },
  "toc": {
   "base_numbering": 1,
   "nav_menu": {},
   "number_sections": true,
   "sideBar": true,
   "skip_h1_title": true,
   "title_cell": "Содержание",
   "title_sidebar": "Contents",
   "toc_cell": true,
   "toc_position": {
    "height": "calc(100% - 180px)",
    "left": "10px",
    "top": "150px",
    "width": "302.391px"
   },
   "toc_section_display": true,
   "toc_window_display": false
  },
  "widgets": {
   "application/vnd.jupyter.widget-state+json": {
    "0488301bd13c4af6b2a92da8be8c92ea": {
     "model_module": "@jupyter-widgets/controls",
     "model_module_version": "1.5.0",
     "model_name": "HTMLModel",
     "state": {
      "_dom_classes": [],
      "_model_module": "@jupyter-widgets/controls",
      "_model_module_version": "1.5.0",
      "_model_name": "HTMLModel",
      "_view_count": null,
      "_view_module": "@jupyter-widgets/controls",
      "_view_module_version": "1.5.0",
      "_view_name": "HTMLView",
      "description": "",
      "description_tooltip": null,
      "layout": "IPY_MODEL_3237f58ca62241cdb4d1fcde11be4453",
      "placeholder": "​",
      "style": "IPY_MODEL_46ccc623b7814156a7b9b4c457e4d5e5",
      "value": "100%"
     }
    },
    "0b771693e1da4853a4c9fa963f0dbff6": {
     "model_module": "@jupyter-widgets/controls",
     "model_module_version": "1.5.0",
     "model_name": "HTMLModel",
     "state": {
      "_dom_classes": [],
      "_model_module": "@jupyter-widgets/controls",
      "_model_module_version": "1.5.0",
      "_model_name": "HTMLModel",
      "_view_count": null,
      "_view_module": "@jupyter-widgets/controls",
      "_view_module_version": "1.5.0",
      "_view_name": "HTMLView",
      "description": "",
      "description_tooltip": null,
      "layout": "IPY_MODEL_f46b7e42501c47ca9cde6a839d0dc0df",
      "placeholder": "​",
      "style": "IPY_MODEL_d1c3a94e21d042a1b449f0a98904cf05",
      "value": " 811/811 [00:00&lt;00:00, 51.2kB/s]"
     }
    },
    "0c0afa3bb165400a8639e6e18ac08347": {
     "model_module": "@jupyter-widgets/controls",
     "model_module_version": "1.5.0",
     "model_name": "DescriptionStyleModel",
     "state": {
      "_model_module": "@jupyter-widgets/controls",
      "_model_module_version": "1.5.0",
      "_model_name": "DescriptionStyleModel",
      "_view_count": null,
      "_view_module": "@jupyter-widgets/base",
      "_view_module_version": "1.2.0",
      "_view_name": "StyleView",
      "description_width": ""
     }
    },
    "14a5b76611984398b952198cbb4087c1": {
     "model_module": "@jupyter-widgets/base",
     "model_module_version": "1.2.0",
     "model_name": "LayoutModel",
     "state": {
      "_model_module": "@jupyter-widgets/base",
      "_model_module_version": "1.2.0",
      "_model_name": "LayoutModel",
      "_view_count": null,
      "_view_module": "@jupyter-widgets/base",
      "_view_module_version": "1.2.0",
      "_view_name": "LayoutView",
      "align_content": null,
      "align_items": null,
      "align_self": null,
      "border": null,
      "bottom": null,
      "display": null,
      "flex": null,
      "flex_flow": null,
      "grid_area": null,
      "grid_auto_columns": null,
      "grid_auto_flow": null,
      "grid_auto_rows": null,
      "grid_column": null,
      "grid_gap": null,
      "grid_row": null,
      "grid_template_areas": null,
      "grid_template_columns": null,
      "grid_template_rows": null,
      "height": null,
      "justify_content": null,
      "justify_items": null,
      "left": null,
      "margin": null,
      "max_height": null,
      "max_width": null,
      "min_height": null,
      "min_width": null,
      "object_fit": null,
      "object_position": null,
      "order": null,
      "overflow": null,
      "overflow_x": null,
      "overflow_y": null,
      "padding": null,
      "right": null,
      "top": null,
      "visibility": null,
      "width": null
     }
    },
    "15f7d084bd0b432398b253536ae1075a": {
     "model_module": "@jupyter-widgets/controls",
     "model_module_version": "1.5.0",
     "model_name": "HTMLModel",
     "state": {
      "_dom_classes": [],
      "_model_module": "@jupyter-widgets/controls",
      "_model_module_version": "1.5.0",
      "_model_name": "HTMLModel",
      "_view_count": null,
      "_view_module": "@jupyter-widgets/controls",
      "_view_module_version": "1.5.0",
      "_view_name": "HTMLView",
      "description": "",
      "description_tooltip": null,
      "layout": "IPY_MODEL_bbfc42082d8d4d22a7a992486f9f62ed",
      "placeholder": "​",
      "style": "IPY_MODEL_d63493a2ba1e4ebb98861fa75e9e3f7e",
      "value": "Downloading (…)okenizer_config.json: 100%"
     }
    },
    "1c6e6e81041440828e698c36c35f5701": {
     "model_module": "@jupyter-widgets/base",
     "model_module_version": "1.2.0",
     "model_name": "LayoutModel",
     "state": {
      "_model_module": "@jupyter-widgets/base",
      "_model_module_version": "1.2.0",
      "_model_name": "LayoutModel",
      "_view_count": null,
      "_view_module": "@jupyter-widgets/base",
      "_view_module_version": "1.2.0",
      "_view_name": "LayoutView",
      "align_content": null,
      "align_items": null,
      "align_self": null,
      "border": null,
      "bottom": null,
      "display": null,
      "flex": null,
      "flex_flow": null,
      "grid_area": null,
      "grid_auto_columns": null,
      "grid_auto_flow": null,
      "grid_auto_rows": null,
      "grid_column": null,
      "grid_gap": null,
      "grid_row": null,
      "grid_template_areas": null,
      "grid_template_columns": null,
      "grid_template_rows": null,
      "height": null,
      "justify_content": null,
      "justify_items": null,
      "left": null,
      "margin": null,
      "max_height": null,
      "max_width": null,
      "min_height": null,
      "min_width": null,
      "object_fit": null,
      "object_position": null,
      "order": null,
      "overflow": null,
      "overflow_x": null,
      "overflow_y": null,
      "padding": null,
      "right": null,
      "top": null,
      "visibility": null,
      "width": null
     }
    },
    "1d3af2c0795c4db58fde2ee7f2dd9341": {
     "model_module": "@jupyter-widgets/controls",
     "model_module_version": "1.5.0",
     "model_name": "HTMLModel",
     "state": {
      "_dom_classes": [],
      "_model_module": "@jupyter-widgets/controls",
      "_model_module_version": "1.5.0",
      "_model_name": "HTMLModel",
      "_view_count": null,
      "_view_module": "@jupyter-widgets/controls",
      "_view_module_version": "1.5.0",
      "_view_name": "HTMLView",
      "description": "",
      "description_tooltip": null,
      "layout": "IPY_MODEL_e6963f928b51464b87a8724897a134f1",
      "placeholder": "​",
      "style": "IPY_MODEL_afaaa70c939f42be8a563d1933e9d414",
      "value": "Downloading (…)cial_tokens_map.json: 100%"
     }
    },
    "1ef5d09b15104136a442098290279dfe": {
     "model_module": "@jupyter-widgets/base",
     "model_module_version": "1.2.0",
     "model_name": "LayoutModel",
     "state": {
      "_model_module": "@jupyter-widgets/base",
      "_model_module_version": "1.2.0",
      "_model_name": "LayoutModel",
      "_view_count": null,
      "_view_module": "@jupyter-widgets/base",
      "_view_module_version": "1.2.0",
      "_view_name": "LayoutView",
      "align_content": null,
      "align_items": null,
      "align_self": null,
      "border": null,
      "bottom": null,
      "display": null,
      "flex": null,
      "flex_flow": null,
      "grid_area": null,
      "grid_auto_columns": null,
      "grid_auto_flow": null,
      "grid_auto_rows": null,
      "grid_column": null,
      "grid_gap": null,
      "grid_row": null,
      "grid_template_areas": null,
      "grid_template_columns": null,
      "grid_template_rows": null,
      "height": null,
      "justify_content": null,
      "justify_items": null,
      "left": null,
      "margin": null,
      "max_height": null,
      "max_width": null,
      "min_height": null,
      "min_width": null,
      "object_fit": null,
      "object_position": null,
      "order": null,
      "overflow": null,
      "overflow_x": null,
      "overflow_y": null,
      "padding": null,
      "right": null,
      "top": null,
      "visibility": null,
      "width": null
     }
    },
    "2a5472277c84466f81114db92c08773f": {
     "model_module": "@jupyter-widgets/base",
     "model_module_version": "1.2.0",
     "model_name": "LayoutModel",
     "state": {
      "_model_module": "@jupyter-widgets/base",
      "_model_module_version": "1.2.0",
      "_model_name": "LayoutModel",
      "_view_count": null,
      "_view_module": "@jupyter-widgets/base",
      "_view_module_version": "1.2.0",
      "_view_name": "LayoutView",
      "align_content": null,
      "align_items": null,
      "align_self": null,
      "border": null,
      "bottom": null,
      "display": null,
      "flex": null,
      "flex_flow": null,
      "grid_area": null,
      "grid_auto_columns": null,
      "grid_auto_flow": null,
      "grid_auto_rows": null,
      "grid_column": null,
      "grid_gap": null,
      "grid_row": null,
      "grid_template_areas": null,
      "grid_template_columns": null,
      "grid_template_rows": null,
      "height": null,
      "justify_content": null,
      "justify_items": null,
      "left": null,
      "margin": null,
      "max_height": null,
      "max_width": null,
      "min_height": null,
      "min_width": null,
      "object_fit": null,
      "object_position": null,
      "order": null,
      "overflow": null,
      "overflow_x": null,
      "overflow_y": null,
      "padding": null,
      "right": null,
      "top": null,
      "visibility": null,
      "width": null
     }
    },
    "2ee8c1fe1f324c3ebff8ac7b71e6ce5c": {
     "model_module": "@jupyter-widgets/base",
     "model_module_version": "1.2.0",
     "model_name": "LayoutModel",
     "state": {
      "_model_module": "@jupyter-widgets/base",
      "_model_module_version": "1.2.0",
      "_model_name": "LayoutModel",
      "_view_count": null,
      "_view_module": "@jupyter-widgets/base",
      "_view_module_version": "1.2.0",
      "_view_name": "LayoutView",
      "align_content": null,
      "align_items": null,
      "align_self": null,
      "border": null,
      "bottom": null,
      "display": null,
      "flex": null,
      "flex_flow": null,
      "grid_area": null,
      "grid_auto_columns": null,
      "grid_auto_flow": null,
      "grid_auto_rows": null,
      "grid_column": null,
      "grid_gap": null,
      "grid_row": null,
      "grid_template_areas": null,
      "grid_template_columns": null,
      "grid_template_rows": null,
      "height": null,
      "justify_content": null,
      "justify_items": null,
      "left": null,
      "margin": null,
      "max_height": null,
      "max_width": null,
      "min_height": null,
      "min_width": null,
      "object_fit": null,
      "object_position": null,
      "order": null,
      "overflow": null,
      "overflow_x": null,
      "overflow_y": null,
      "padding": null,
      "right": null,
      "top": null,
      "visibility": null,
      "width": null
     }
    },
    "3237f58ca62241cdb4d1fcde11be4453": {
     "model_module": "@jupyter-widgets/base",
     "model_module_version": "1.2.0",
     "model_name": "LayoutModel",
     "state": {
      "_model_module": "@jupyter-widgets/base",
      "_model_module_version": "1.2.0",
      "_model_name": "LayoutModel",
      "_view_count": null,
      "_view_module": "@jupyter-widgets/base",
      "_view_module_version": "1.2.0",
      "_view_name": "LayoutView",
      "align_content": null,
      "align_items": null,
      "align_self": null,
      "border": null,
      "bottom": null,
      "display": null,
      "flex": null,
      "flex_flow": null,
      "grid_area": null,
      "grid_auto_columns": null,
      "grid_auto_flow": null,
      "grid_auto_rows": null,
      "grid_column": null,
      "grid_gap": null,
      "grid_row": null,
      "grid_template_areas": null,
      "grid_template_columns": null,
      "grid_template_rows": null,
      "height": null,
      "justify_content": null,
      "justify_items": null,
      "left": null,
      "margin": null,
      "max_height": null,
      "max_width": null,
      "min_height": null,
      "min_width": null,
      "object_fit": null,
      "object_position": null,
      "order": null,
      "overflow": null,
      "overflow_x": null,
      "overflow_y": null,
      "padding": null,
      "right": null,
      "top": null,
      "visibility": null,
      "width": null
     }
    },
    "3652d93c62854be5b92f2b8c760b4918": {
     "model_module": "@jupyter-widgets/controls",
     "model_module_version": "1.5.0",
     "model_name": "HTMLModel",
     "state": {
      "_dom_classes": [],
      "_model_module": "@jupyter-widgets/controls",
      "_model_module_version": "1.5.0",
      "_model_name": "HTMLModel",
      "_view_count": null,
      "_view_module": "@jupyter-widgets/controls",
      "_view_module_version": "1.5.0",
      "_view_name": "HTMLView",
      "description": "",
      "description_tooltip": null,
      "layout": "IPY_MODEL_5f9b85e6d79e4e12bff7b66fa5486f08",
      "placeholder": "​",
      "style": "IPY_MODEL_fcbc00b90e5e4f8d9785e1fdc5331a61",
      "value": " 159292/159292 [36:59&lt;00:00, 73.72it/s]"
     }
    },
    "38595461ebb04b2a9da7f7cf80e14e5d": {
     "model_module": "@jupyter-widgets/controls",
     "model_module_version": "1.5.0",
     "model_name": "HTMLModel",
     "state": {
      "_dom_classes": [],
      "_model_module": "@jupyter-widgets/controls",
      "_model_module_version": "1.5.0",
      "_model_name": "HTMLModel",
      "_view_count": null,
      "_view_module": "@jupyter-widgets/controls",
      "_view_module_version": "1.5.0",
      "_view_name": "HTMLView",
      "description": "",
      "description_tooltip": null,
      "layout": "IPY_MODEL_a6dd6f684efc4d8989586fb6d99e85c3",
      "placeholder": "​",
      "style": "IPY_MODEL_0c0afa3bb165400a8639e6e18ac08347",
      "value": "100%"
     }
    },
    "3a96712eb63040239c232d7ba93de876": {
     "model_module": "@jupyter-widgets/controls",
     "model_module_version": "1.5.0",
     "model_name": "HTMLModel",
     "state": {
      "_dom_classes": [],
      "_model_module": "@jupyter-widgets/controls",
      "_model_module_version": "1.5.0",
      "_model_name": "HTMLModel",
      "_view_count": null,
      "_view_module": "@jupyter-widgets/controls",
      "_view_module_version": "1.5.0",
      "_view_name": "HTMLView",
      "description": "",
      "description_tooltip": null,
      "layout": "IPY_MODEL_14a5b76611984398b952198cbb4087c1",
      "placeholder": "​",
      "style": "IPY_MODEL_c4373f4138df458eb06eddb9dc386313",
      "value": " 112/112 [00:00&lt;00:00, 5.72kB/s]"
     }
    },
    "3c3e9627030f478b8d4230ddab7818f7": {
     "model_module": "@jupyter-widgets/controls",
     "model_module_version": "1.5.0",
     "model_name": "HBoxModel",
     "state": {
      "_dom_classes": [],
      "_model_module": "@jupyter-widgets/controls",
      "_model_module_version": "1.5.0",
      "_model_name": "HBoxModel",
      "_view_count": null,
      "_view_module": "@jupyter-widgets/controls",
      "_view_module_version": "1.5.0",
      "_view_name": "HBoxView",
      "box_style": "",
      "children": [
       "IPY_MODEL_3cabfb056b5f4343ba0b42068e188b3c",
       "IPY_MODEL_ba2fd2020f264ffb95a6dc8bbf1482a9",
       "IPY_MODEL_c6f9f054a7c94ea397049ef7d76e45e0"
      ],
      "layout": "IPY_MODEL_e4dbd63f278b4bec98a0a04d32f1ee76"
     }
    },
    "3cabfb056b5f4343ba0b42068e188b3c": {
     "model_module": "@jupyter-widgets/controls",
     "model_module_version": "1.5.0",
     "model_name": "HTMLModel",
     "state": {
      "_dom_classes": [],
      "_model_module": "@jupyter-widgets/controls",
      "_model_module_version": "1.5.0",
      "_model_name": "HTMLModel",
      "_view_count": null,
      "_view_module": "@jupyter-widgets/controls",
      "_view_module_version": "1.5.0",
      "_view_name": "HTMLView",
      "description": "",
      "description_tooltip": null,
      "layout": "IPY_MODEL_2ee8c1fe1f324c3ebff8ac7b71e6ce5c",
      "placeholder": "​",
      "style": "IPY_MODEL_4137923ed9fd44acbdd6df28bf7efbea",
      "value": "Downloading (…)&quot;pytorch_model.bin&quot;;: 100%"
     }
    },
    "3e3a19e642324b10a18821e5aff444b6": {
     "model_module": "@jupyter-widgets/controls",
     "model_module_version": "1.5.0",
     "model_name": "HBoxModel",
     "state": {
      "_dom_classes": [],
      "_model_module": "@jupyter-widgets/controls",
      "_model_module_version": "1.5.0",
      "_model_name": "HBoxModel",
      "_view_count": null,
      "_view_module": "@jupyter-widgets/controls",
      "_view_module_version": "1.5.0",
      "_view_name": "HBoxView",
      "box_style": "",
      "children": [
       "IPY_MODEL_86368e02667d4dfeb45655a6b4a9ccc4",
       "IPY_MODEL_80850cf1abbf493fb7e5bcbea89c23dc",
       "IPY_MODEL_0b771693e1da4853a4c9fa963f0dbff6"
      ],
      "layout": "IPY_MODEL_4a23a0d079284da5b45d348ab033ea82"
     }
    },
    "3f1548fccbf646b7a92dd8c15c6cc9bf": {
     "model_module": "@jupyter-widgets/controls",
     "model_module_version": "1.5.0",
     "model_name": "ProgressStyleModel",
     "state": {
      "_model_module": "@jupyter-widgets/controls",
      "_model_module_version": "1.5.0",
      "_model_name": "ProgressStyleModel",
      "_view_count": null,
      "_view_module": "@jupyter-widgets/base",
      "_view_module_version": "1.2.0",
      "_view_name": "StyleView",
      "bar_color": null,
      "description_width": ""
     }
    },
    "40dfcb83edbb44c0860f88a6f69c4dff": {
     "model_module": "@jupyter-widgets/controls",
     "model_module_version": "1.5.0",
     "model_name": "FloatProgressModel",
     "state": {
      "_dom_classes": [],
      "_model_module": "@jupyter-widgets/controls",
      "_model_module_version": "1.5.0",
      "_model_name": "FloatProgressModel",
      "_view_count": null,
      "_view_module": "@jupyter-widgets/controls",
      "_view_module_version": "1.5.0",
      "_view_name": "ProgressView",
      "bar_style": "success",
      "description": "",
      "description_tooltip": null,
      "layout": "IPY_MODEL_7d12ccee700a4e01b34e3c067549054f",
      "max": 231508,
      "min": 0,
      "orientation": "horizontal",
      "style": "IPY_MODEL_4bf9050f0a274f7aa384df985335cc2a",
      "value": 231508
     }
    },
    "4137923ed9fd44acbdd6df28bf7efbea": {
     "model_module": "@jupyter-widgets/controls",
     "model_module_version": "1.5.0",
     "model_name": "DescriptionStyleModel",
     "state": {
      "_model_module": "@jupyter-widgets/controls",
      "_model_module_version": "1.5.0",
      "_model_name": "DescriptionStyleModel",
      "_view_count": null,
      "_view_module": "@jupyter-widgets/base",
      "_view_module_version": "1.2.0",
      "_view_name": "StyleView",
      "description_width": ""
     }
    },
    "41d0674b85934e8d8aa4a03b31d30479": {
     "model_module": "@jupyter-widgets/base",
     "model_module_version": "1.2.0",
     "model_name": "LayoutModel",
     "state": {
      "_model_module": "@jupyter-widgets/base",
      "_model_module_version": "1.2.0",
      "_model_name": "LayoutModel",
      "_view_count": null,
      "_view_module": "@jupyter-widgets/base",
      "_view_module_version": "1.2.0",
      "_view_name": "LayoutView",
      "align_content": null,
      "align_items": null,
      "align_self": null,
      "border": null,
      "bottom": null,
      "display": null,
      "flex": null,
      "flex_flow": null,
      "grid_area": null,
      "grid_auto_columns": null,
      "grid_auto_flow": null,
      "grid_auto_rows": null,
      "grid_column": null,
      "grid_gap": null,
      "grid_row": null,
      "grid_template_areas": null,
      "grid_template_columns": null,
      "grid_template_rows": null,
      "height": null,
      "justify_content": null,
      "justify_items": null,
      "left": null,
      "margin": null,
      "max_height": null,
      "max_width": null,
      "min_height": null,
      "min_width": null,
      "object_fit": null,
      "object_position": null,
      "order": null,
      "overflow": null,
      "overflow_x": null,
      "overflow_y": null,
      "padding": null,
      "right": null,
      "top": null,
      "visibility": null,
      "width": null
     }
    },
    "43ac93364d424278941592fc732ba45d": {
     "model_module": "@jupyter-widgets/controls",
     "model_module_version": "1.5.0",
     "model_name": "DescriptionStyleModel",
     "state": {
      "_model_module": "@jupyter-widgets/controls",
      "_model_module_version": "1.5.0",
      "_model_name": "DescriptionStyleModel",
      "_view_count": null,
      "_view_module": "@jupyter-widgets/base",
      "_view_module_version": "1.2.0",
      "_view_name": "StyleView",
      "description_width": ""
     }
    },
    "43e2aa5f08014ddbaf11c530ee99a030": {
     "model_module": "@jupyter-widgets/controls",
     "model_module_version": "1.5.0",
     "model_name": "DescriptionStyleModel",
     "state": {
      "_model_module": "@jupyter-widgets/controls",
      "_model_module_version": "1.5.0",
      "_model_name": "DescriptionStyleModel",
      "_view_count": null,
      "_view_module": "@jupyter-widgets/base",
      "_view_module_version": "1.2.0",
      "_view_name": "StyleView",
      "description_width": ""
     }
    },
    "44eb3afa9a0548588ae93ae8f63963f8": {
     "model_module": "@jupyter-widgets/base",
     "model_module_version": "1.2.0",
     "model_name": "LayoutModel",
     "state": {
      "_model_module": "@jupyter-widgets/base",
      "_model_module_version": "1.2.0",
      "_model_name": "LayoutModel",
      "_view_count": null,
      "_view_module": "@jupyter-widgets/base",
      "_view_module_version": "1.2.0",
      "_view_name": "LayoutView",
      "align_content": null,
      "align_items": null,
      "align_self": null,
      "border": null,
      "bottom": null,
      "display": null,
      "flex": null,
      "flex_flow": null,
      "grid_area": null,
      "grid_auto_columns": null,
      "grid_auto_flow": null,
      "grid_auto_rows": null,
      "grid_column": null,
      "grid_gap": null,
      "grid_row": null,
      "grid_template_areas": null,
      "grid_template_columns": null,
      "grid_template_rows": null,
      "height": null,
      "justify_content": null,
      "justify_items": null,
      "left": null,
      "margin": null,
      "max_height": null,
      "max_width": null,
      "min_height": null,
      "min_width": null,
      "object_fit": null,
      "object_position": null,
      "order": null,
      "overflow": null,
      "overflow_x": null,
      "overflow_y": null,
      "padding": null,
      "right": null,
      "top": null,
      "visibility": null,
      "width": null
     }
    },
    "46ccc623b7814156a7b9b4c457e4d5e5": {
     "model_module": "@jupyter-widgets/controls",
     "model_module_version": "1.5.0",
     "model_name": "DescriptionStyleModel",
     "state": {
      "_model_module": "@jupyter-widgets/controls",
      "_model_module_version": "1.5.0",
      "_model_name": "DescriptionStyleModel",
      "_view_count": null,
      "_view_module": "@jupyter-widgets/base",
      "_view_module_version": "1.2.0",
      "_view_name": "StyleView",
      "description_width": ""
     }
    },
    "4a23a0d079284da5b45d348ab033ea82": {
     "model_module": "@jupyter-widgets/base",
     "model_module_version": "1.2.0",
     "model_name": "LayoutModel",
     "state": {
      "_model_module": "@jupyter-widgets/base",
      "_model_module_version": "1.2.0",
      "_model_name": "LayoutModel",
      "_view_count": null,
      "_view_module": "@jupyter-widgets/base",
      "_view_module_version": "1.2.0",
      "_view_name": "LayoutView",
      "align_content": null,
      "align_items": null,
      "align_self": null,
      "border": null,
      "bottom": null,
      "display": null,
      "flex": null,
      "flex_flow": null,
      "grid_area": null,
      "grid_auto_columns": null,
      "grid_auto_flow": null,
      "grid_auto_rows": null,
      "grid_column": null,
      "grid_gap": null,
      "grid_row": null,
      "grid_template_areas": null,
      "grid_template_columns": null,
      "grid_template_rows": null,
      "height": null,
      "justify_content": null,
      "justify_items": null,
      "left": null,
      "margin": null,
      "max_height": null,
      "max_width": null,
      "min_height": null,
      "min_width": null,
      "object_fit": null,
      "object_position": null,
      "order": null,
      "overflow": null,
      "overflow_x": null,
      "overflow_y": null,
      "padding": null,
      "right": null,
      "top": null,
      "visibility": null,
      "width": null
     }
    },
    "4bf9050f0a274f7aa384df985335cc2a": {
     "model_module": "@jupyter-widgets/controls",
     "model_module_version": "1.5.0",
     "model_name": "ProgressStyleModel",
     "state": {
      "_model_module": "@jupyter-widgets/controls",
      "_model_module_version": "1.5.0",
      "_model_name": "ProgressStyleModel",
      "_view_count": null,
      "_view_module": "@jupyter-widgets/base",
      "_view_module_version": "1.2.0",
      "_view_name": "StyleView",
      "bar_color": null,
      "description_width": ""
     }
    },
    "4dc5564187cb4e37822a4d1c471b5afc": {
     "model_module": "@jupyter-widgets/controls",
     "model_module_version": "1.5.0",
     "model_name": "HTMLModel",
     "state": {
      "_dom_classes": [],
      "_model_module": "@jupyter-widgets/controls",
      "_model_module_version": "1.5.0",
      "_model_name": "HTMLModel",
      "_view_count": null,
      "_view_module": "@jupyter-widgets/controls",
      "_view_module_version": "1.5.0",
      "_view_name": "HTMLView",
      "description": "",
      "description_tooltip": null,
      "layout": "IPY_MODEL_1ef5d09b15104136a442098290279dfe",
      "placeholder": "​",
      "style": "IPY_MODEL_4dedbbe0b1774359a03d4dd5faf28f6e",
      "value": "Downloading (…)solve/main/vocab.txt: 100%"
     }
    },
    "4dedbbe0b1774359a03d4dd5faf28f6e": {
     "model_module": "@jupyter-widgets/controls",
     "model_module_version": "1.5.0",
     "model_name": "DescriptionStyleModel",
     "state": {
      "_model_module": "@jupyter-widgets/controls",
      "_model_module_version": "1.5.0",
      "_model_name": "DescriptionStyleModel",
      "_view_count": null,
      "_view_module": "@jupyter-widgets/base",
      "_view_module_version": "1.2.0",
      "_view_name": "StyleView",
      "description_width": ""
     }
    },
    "4f05fcdd8b914a9c8319fe659d130bbc": {
     "model_module": "@jupyter-widgets/controls",
     "model_module_version": "1.5.0",
     "model_name": "HBoxModel",
     "state": {
      "_dom_classes": [],
      "_model_module": "@jupyter-widgets/controls",
      "_model_module_version": "1.5.0",
      "_model_name": "HBoxModel",
      "_view_count": null,
      "_view_module": "@jupyter-widgets/controls",
      "_view_module_version": "1.5.0",
      "_view_name": "HBoxView",
      "box_style": "",
      "children": [
       "IPY_MODEL_15f7d084bd0b432398b253536ae1075a",
       "IPY_MODEL_4fc9ca9bedec4b8e94d9968bcdfeef47",
       "IPY_MODEL_5c651882da6e4e6bad3fe811a81e0cbf"
      ],
      "layout": "IPY_MODEL_44eb3afa9a0548588ae93ae8f63963f8"
     }
    },
    "4f865b2dd68044fe853f1751a0fb0ccb": {
     "model_module": "@jupyter-widgets/controls",
     "model_module_version": "1.5.0",
     "model_name": "HBoxModel",
     "state": {
      "_dom_classes": [],
      "_model_module": "@jupyter-widgets/controls",
      "_model_module_version": "1.5.0",
      "_model_name": "HBoxModel",
      "_view_count": null,
      "_view_module": "@jupyter-widgets/controls",
      "_view_module_version": "1.5.0",
      "_view_name": "HBoxView",
      "box_style": "",
      "children": [
       "IPY_MODEL_4dc5564187cb4e37822a4d1c471b5afc",
       "IPY_MODEL_40dfcb83edbb44c0860f88a6f69c4dff",
       "IPY_MODEL_e2f2d76b722c4660ae32ec394a774294"
      ],
      "layout": "IPY_MODEL_af93c1088f074010a166fe9b3c3de715"
     }
    },
    "4f9b08dcbfc64fb68196f2447926eac1": {
     "model_module": "@jupyter-widgets/base",
     "model_module_version": "1.2.0",
     "model_name": "LayoutModel",
     "state": {
      "_model_module": "@jupyter-widgets/base",
      "_model_module_version": "1.2.0",
      "_model_name": "LayoutModel",
      "_view_count": null,
      "_view_module": "@jupyter-widgets/base",
      "_view_module_version": "1.2.0",
      "_view_name": "LayoutView",
      "align_content": null,
      "align_items": null,
      "align_self": null,
      "border": null,
      "bottom": null,
      "display": null,
      "flex": null,
      "flex_flow": null,
      "grid_area": null,
      "grid_auto_columns": null,
      "grid_auto_flow": null,
      "grid_auto_rows": null,
      "grid_column": null,
      "grid_gap": null,
      "grid_row": null,
      "grid_template_areas": null,
      "grid_template_columns": null,
      "grid_template_rows": null,
      "height": null,
      "justify_content": null,
      "justify_items": null,
      "left": null,
      "margin": null,
      "max_height": null,
      "max_width": null,
      "min_height": null,
      "min_width": null,
      "object_fit": null,
      "object_position": null,
      "order": null,
      "overflow": null,
      "overflow_x": null,
      "overflow_y": null,
      "padding": null,
      "right": null,
      "top": null,
      "visibility": null,
      "width": null
     }
    },
    "4fc9ca9bedec4b8e94d9968bcdfeef47": {
     "model_module": "@jupyter-widgets/controls",
     "model_module_version": "1.5.0",
     "model_name": "FloatProgressModel",
     "state": {
      "_dom_classes": [],
      "_model_module": "@jupyter-widgets/controls",
      "_model_module_version": "1.5.0",
      "_model_name": "FloatProgressModel",
      "_view_count": null,
      "_view_module": "@jupyter-widgets/controls",
      "_view_module_version": "1.5.0",
      "_view_name": "ProgressView",
      "bar_style": "success",
      "description": "",
      "description_tooltip": null,
      "layout": "IPY_MODEL_5ce3188f9a3c475099435c1fae6cc13f",
      "max": 174,
      "min": 0,
      "orientation": "horizontal",
      "style": "IPY_MODEL_3f1548fccbf646b7a92dd8c15c6cc9bf",
      "value": 174
     }
    },
    "5653482339bb4920b476a925223303d5": {
     "model_module": "@jupyter-widgets/controls",
     "model_module_version": "1.5.0",
     "model_name": "ProgressStyleModel",
     "state": {
      "_model_module": "@jupyter-widgets/controls",
      "_model_module_version": "1.5.0",
      "_model_name": "ProgressStyleModel",
      "_view_count": null,
      "_view_module": "@jupyter-widgets/base",
      "_view_module_version": "1.2.0",
      "_view_name": "StyleView",
      "bar_color": null,
      "description_width": ""
     }
    },
    "5c651882da6e4e6bad3fe811a81e0cbf": {
     "model_module": "@jupyter-widgets/controls",
     "model_module_version": "1.5.0",
     "model_name": "HTMLModel",
     "state": {
      "_dom_classes": [],
      "_model_module": "@jupyter-widgets/controls",
      "_model_module_version": "1.5.0",
      "_model_name": "HTMLModel",
      "_view_count": null,
      "_view_module": "@jupyter-widgets/controls",
      "_view_module_version": "1.5.0",
      "_view_name": "HTMLView",
      "description": "",
      "description_tooltip": null,
      "layout": "IPY_MODEL_2a5472277c84466f81114db92c08773f",
      "placeholder": "​",
      "style": "IPY_MODEL_c48110fa65f84c51a11a919251a49785",
      "value": " 174/174 [00:00&lt;00:00, 11.2kB/s]"
     }
    },
    "5ce3188f9a3c475099435c1fae6cc13f": {
     "model_module": "@jupyter-widgets/base",
     "model_module_version": "1.2.0",
     "model_name": "LayoutModel",
     "state": {
      "_model_module": "@jupyter-widgets/base",
      "_model_module_version": "1.2.0",
      "_model_name": "LayoutModel",
      "_view_count": null,
      "_view_module": "@jupyter-widgets/base",
      "_view_module_version": "1.2.0",
      "_view_name": "LayoutView",
      "align_content": null,
      "align_items": null,
      "align_self": null,
      "border": null,
      "bottom": null,
      "display": null,
      "flex": null,
      "flex_flow": null,
      "grid_area": null,
      "grid_auto_columns": null,
      "grid_auto_flow": null,
      "grid_auto_rows": null,
      "grid_column": null,
      "grid_gap": null,
      "grid_row": null,
      "grid_template_areas": null,
      "grid_template_columns": null,
      "grid_template_rows": null,
      "height": null,
      "justify_content": null,
      "justify_items": null,
      "left": null,
      "margin": null,
      "max_height": null,
      "max_width": null,
      "min_height": null,
      "min_width": null,
      "object_fit": null,
      "object_position": null,
      "order": null,
      "overflow": null,
      "overflow_x": null,
      "overflow_y": null,
      "padding": null,
      "right": null,
      "top": null,
      "visibility": null,
      "width": null
     }
    },
    "5ea6369abd7d4199bea283c7543fba3b": {
     "model_module": "@jupyter-widgets/controls",
     "model_module_version": "1.5.0",
     "model_name": "ProgressStyleModel",
     "state": {
      "_model_module": "@jupyter-widgets/controls",
      "_model_module_version": "1.5.0",
      "_model_name": "ProgressStyleModel",
      "_view_count": null,
      "_view_module": "@jupyter-widgets/base",
      "_view_module_version": "1.2.0",
      "_view_name": "StyleView",
      "bar_color": null,
      "description_width": ""
     }
    },
    "5f9b85e6d79e4e12bff7b66fa5486f08": {
     "model_module": "@jupyter-widgets/base",
     "model_module_version": "1.2.0",
     "model_name": "LayoutModel",
     "state": {
      "_model_module": "@jupyter-widgets/base",
      "_model_module_version": "1.2.0",
      "_model_name": "LayoutModel",
      "_view_count": null,
      "_view_module": "@jupyter-widgets/base",
      "_view_module_version": "1.2.0",
      "_view_name": "LayoutView",
      "align_content": null,
      "align_items": null,
      "align_self": null,
      "border": null,
      "bottom": null,
      "display": null,
      "flex": null,
      "flex_flow": null,
      "grid_area": null,
      "grid_auto_columns": null,
      "grid_auto_flow": null,
      "grid_auto_rows": null,
      "grid_column": null,
      "grid_gap": null,
      "grid_row": null,
      "grid_template_areas": null,
      "grid_template_columns": null,
      "grid_template_rows": null,
      "height": null,
      "justify_content": null,
      "justify_items": null,
      "left": null,
      "margin": null,
      "max_height": null,
      "max_width": null,
      "min_height": null,
      "min_width": null,
      "object_fit": null,
      "object_position": null,
      "order": null,
      "overflow": null,
      "overflow_x": null,
      "overflow_y": null,
      "padding": null,
      "right": null,
      "top": null,
      "visibility": null,
      "width": null
     }
    },
    "62e7ceb7f4ea43229c7d60c6948615b8": {
     "model_module": "@jupyter-widgets/controls",
     "model_module_version": "1.5.0",
     "model_name": "FloatProgressModel",
     "state": {
      "_dom_classes": [],
      "_model_module": "@jupyter-widgets/controls",
      "_model_module_version": "1.5.0",
      "_model_name": "FloatProgressModel",
      "_view_count": null,
      "_view_module": "@jupyter-widgets/controls",
      "_view_module_version": "1.5.0",
      "_view_name": "ProgressView",
      "bar_style": "success",
      "description": "",
      "description_tooltip": null,
      "layout": "IPY_MODEL_dc14e2150c87438ba6bd5f923e331625",
      "max": 159292,
      "min": 0,
      "orientation": "horizontal",
      "style": "IPY_MODEL_d28ad35ede7c45eca684b4b3b5b6c271",
      "value": 159292
     }
    },
    "6381772734a04895a836466ab76ffb46": {
     "model_module": "@jupyter-widgets/base",
     "model_module_version": "1.2.0",
     "model_name": "LayoutModel",
     "state": {
      "_model_module": "@jupyter-widgets/base",
      "_model_module_version": "1.2.0",
      "_model_name": "LayoutModel",
      "_view_count": null,
      "_view_module": "@jupyter-widgets/base",
      "_view_module_version": "1.2.0",
      "_view_name": "LayoutView",
      "align_content": null,
      "align_items": null,
      "align_self": null,
      "border": null,
      "bottom": null,
      "display": null,
      "flex": null,
      "flex_flow": null,
      "grid_area": null,
      "grid_auto_columns": null,
      "grid_auto_flow": null,
      "grid_auto_rows": null,
      "grid_column": null,
      "grid_gap": null,
      "grid_row": null,
      "grid_template_areas": null,
      "grid_template_columns": null,
      "grid_template_rows": null,
      "height": null,
      "justify_content": null,
      "justify_items": null,
      "left": null,
      "margin": null,
      "max_height": null,
      "max_width": null,
      "min_height": null,
      "min_width": null,
      "object_fit": null,
      "object_position": null,
      "order": null,
      "overflow": null,
      "overflow_x": null,
      "overflow_y": null,
      "padding": null,
      "right": null,
      "top": null,
      "visibility": null,
      "width": null
     }
    },
    "638b6b213cf5434faee8f2801c9d6c4a": {
     "model_module": "@jupyter-widgets/base",
     "model_module_version": "1.2.0",
     "model_name": "LayoutModel",
     "state": {
      "_model_module": "@jupyter-widgets/base",
      "_model_module_version": "1.2.0",
      "_model_name": "LayoutModel",
      "_view_count": null,
      "_view_module": "@jupyter-widgets/base",
      "_view_module_version": "1.2.0",
      "_view_name": "LayoutView",
      "align_content": null,
      "align_items": null,
      "align_self": null,
      "border": null,
      "bottom": null,
      "display": null,
      "flex": null,
      "flex_flow": null,
      "grid_area": null,
      "grid_auto_columns": null,
      "grid_auto_flow": null,
      "grid_auto_rows": null,
      "grid_column": null,
      "grid_gap": null,
      "grid_row": null,
      "grid_template_areas": null,
      "grid_template_columns": null,
      "grid_template_rows": null,
      "height": null,
      "justify_content": null,
      "justify_items": null,
      "left": null,
      "margin": null,
      "max_height": null,
      "max_width": null,
      "min_height": null,
      "min_width": null,
      "object_fit": null,
      "object_position": null,
      "order": null,
      "overflow": null,
      "overflow_x": null,
      "overflow_y": null,
      "padding": null,
      "right": null,
      "top": null,
      "visibility": null,
      "width": null
     }
    },
    "6706edaa34ce40ecb7bc32276b864317": {
     "model_module": "@jupyter-widgets/controls",
     "model_module_version": "1.5.0",
     "model_name": "ProgressStyleModel",
     "state": {
      "_model_module": "@jupyter-widgets/controls",
      "_model_module_version": "1.5.0",
      "_model_name": "ProgressStyleModel",
      "_view_count": null,
      "_view_module": "@jupyter-widgets/base",
      "_view_module_version": "1.2.0",
      "_view_name": "StyleView",
      "bar_color": null,
      "description_width": ""
     }
    },
    "6e172f02206c45e1b55b1da5b7281844": {
     "model_module": "@jupyter-widgets/base",
     "model_module_version": "1.2.0",
     "model_name": "LayoutModel",
     "state": {
      "_model_module": "@jupyter-widgets/base",
      "_model_module_version": "1.2.0",
      "_model_name": "LayoutModel",
      "_view_count": null,
      "_view_module": "@jupyter-widgets/base",
      "_view_module_version": "1.2.0",
      "_view_name": "LayoutView",
      "align_content": null,
      "align_items": null,
      "align_self": null,
      "border": null,
      "bottom": null,
      "display": null,
      "flex": null,
      "flex_flow": null,
      "grid_area": null,
      "grid_auto_columns": null,
      "grid_auto_flow": null,
      "grid_auto_rows": null,
      "grid_column": null,
      "grid_gap": null,
      "grid_row": null,
      "grid_template_areas": null,
      "grid_template_columns": null,
      "grid_template_rows": null,
      "height": null,
      "justify_content": null,
      "justify_items": null,
      "left": null,
      "margin": null,
      "max_height": null,
      "max_width": null,
      "min_height": null,
      "min_width": null,
      "object_fit": null,
      "object_position": null,
      "order": null,
      "overflow": null,
      "overflow_x": null,
      "overflow_y": null,
      "padding": null,
      "right": null,
      "top": null,
      "visibility": null,
      "width": null
     }
    },
    "7643ea59461942c48488510272caa4d9": {
     "model_module": "@jupyter-widgets/controls",
     "model_module_version": "1.5.0",
     "model_name": "HBoxModel",
     "state": {
      "_dom_classes": [],
      "_model_module": "@jupyter-widgets/controls",
      "_model_module_version": "1.5.0",
      "_model_name": "HBoxModel",
      "_view_count": null,
      "_view_module": "@jupyter-widgets/controls",
      "_view_module_version": "1.5.0",
      "_view_name": "HBoxView",
      "box_style": "",
      "children": [
       "IPY_MODEL_38595461ebb04b2a9da7f7cf80e14e5d",
       "IPY_MODEL_cdb170496a804fd59a3eef2c589e5766",
       "IPY_MODEL_b324916ce9a34d99b19098ffe3376617"
      ],
      "layout": "IPY_MODEL_d781eb1502ef408cb91e9e9feb84c734"
     }
    },
    "7d12ccee700a4e01b34e3c067549054f": {
     "model_module": "@jupyter-widgets/base",
     "model_module_version": "1.2.0",
     "model_name": "LayoutModel",
     "state": {
      "_model_module": "@jupyter-widgets/base",
      "_model_module_version": "1.2.0",
      "_model_name": "LayoutModel",
      "_view_count": null,
      "_view_module": "@jupyter-widgets/base",
      "_view_module_version": "1.2.0",
      "_view_name": "LayoutView",
      "align_content": null,
      "align_items": null,
      "align_self": null,
      "border": null,
      "bottom": null,
      "display": null,
      "flex": null,
      "flex_flow": null,
      "grid_area": null,
      "grid_auto_columns": null,
      "grid_auto_flow": null,
      "grid_auto_rows": null,
      "grid_column": null,
      "grid_gap": null,
      "grid_row": null,
      "grid_template_areas": null,
      "grid_template_columns": null,
      "grid_template_rows": null,
      "height": null,
      "justify_content": null,
      "justify_items": null,
      "left": null,
      "margin": null,
      "max_height": null,
      "max_width": null,
      "min_height": null,
      "min_width": null,
      "object_fit": null,
      "object_position": null,
      "order": null,
      "overflow": null,
      "overflow_x": null,
      "overflow_y": null,
      "padding": null,
      "right": null,
      "top": null,
      "visibility": null,
      "width": null
     }
    },
    "80850cf1abbf493fb7e5bcbea89c23dc": {
     "model_module": "@jupyter-widgets/controls",
     "model_module_version": "1.5.0",
     "model_name": "FloatProgressModel",
     "state": {
      "_dom_classes": [],
      "_model_module": "@jupyter-widgets/controls",
      "_model_module_version": "1.5.0",
      "_model_name": "FloatProgressModel",
      "_view_count": null,
      "_view_module": "@jupyter-widgets/controls",
      "_view_module_version": "1.5.0",
      "_view_name": "ProgressView",
      "bar_style": "success",
      "description": "",
      "description_tooltip": null,
      "layout": "IPY_MODEL_6381772734a04895a836466ab76ffb46",
      "max": 811,
      "min": 0,
      "orientation": "horizontal",
      "style": "IPY_MODEL_c0a335c4c915475d8fdd38152ff5bb54",
      "value": 811
     }
    },
    "86368e02667d4dfeb45655a6b4a9ccc4": {
     "model_module": "@jupyter-widgets/controls",
     "model_module_version": "1.5.0",
     "model_name": "HTMLModel",
     "state": {
      "_dom_classes": [],
      "_model_module": "@jupyter-widgets/controls",
      "_model_module_version": "1.5.0",
      "_model_name": "HTMLModel",
      "_view_count": null,
      "_view_module": "@jupyter-widgets/controls",
      "_view_module_version": "1.5.0",
      "_view_name": "HTMLView",
      "description": "",
      "description_tooltip": null,
      "layout": "IPY_MODEL_968ff18e3c554ec2a25d183be19ce850",
      "placeholder": "​",
      "style": "IPY_MODEL_43e2aa5f08014ddbaf11c530ee99a030",
      "value": "Downloading (…)lve/main/config.json: 100%"
     }
    },
    "8e76f659f1124624a88406663b2cbf60": {
     "model_module": "@jupyter-widgets/base",
     "model_module_version": "1.2.0",
     "model_name": "LayoutModel",
     "state": {
      "_model_module": "@jupyter-widgets/base",
      "_model_module_version": "1.2.0",
      "_model_name": "LayoutModel",
      "_view_count": null,
      "_view_module": "@jupyter-widgets/base",
      "_view_module_version": "1.2.0",
      "_view_name": "LayoutView",
      "align_content": null,
      "align_items": null,
      "align_self": null,
      "border": null,
      "bottom": null,
      "display": null,
      "flex": null,
      "flex_flow": null,
      "grid_area": null,
      "grid_auto_columns": null,
      "grid_auto_flow": null,
      "grid_auto_rows": null,
      "grid_column": null,
      "grid_gap": null,
      "grid_row": null,
      "grid_template_areas": null,
      "grid_template_columns": null,
      "grid_template_rows": null,
      "height": null,
      "justify_content": null,
      "justify_items": null,
      "left": null,
      "margin": null,
      "max_height": null,
      "max_width": null,
      "min_height": null,
      "min_width": null,
      "object_fit": null,
      "object_position": null,
      "order": null,
      "overflow": null,
      "overflow_x": null,
      "overflow_y": null,
      "padding": null,
      "right": null,
      "top": null,
      "visibility": null,
      "width": null
     }
    },
    "968ff18e3c554ec2a25d183be19ce850": {
     "model_module": "@jupyter-widgets/base",
     "model_module_version": "1.2.0",
     "model_name": "LayoutModel",
     "state": {
      "_model_module": "@jupyter-widgets/base",
      "_model_module_version": "1.2.0",
      "_model_name": "LayoutModel",
      "_view_count": null,
      "_view_module": "@jupyter-widgets/base",
      "_view_module_version": "1.2.0",
      "_view_name": "LayoutView",
      "align_content": null,
      "align_items": null,
      "align_self": null,
      "border": null,
      "bottom": null,
      "display": null,
      "flex": null,
      "flex_flow": null,
      "grid_area": null,
      "grid_auto_columns": null,
      "grid_auto_flow": null,
      "grid_auto_rows": null,
      "grid_column": null,
      "grid_gap": null,
      "grid_row": null,
      "grid_template_areas": null,
      "grid_template_columns": null,
      "grid_template_rows": null,
      "height": null,
      "justify_content": null,
      "justify_items": null,
      "left": null,
      "margin": null,
      "max_height": null,
      "max_width": null,
      "min_height": null,
      "min_width": null,
      "object_fit": null,
      "object_position": null,
      "order": null,
      "overflow": null,
      "overflow_x": null,
      "overflow_y": null,
      "padding": null,
      "right": null,
      "top": null,
      "visibility": null,
      "width": null
     }
    },
    "a1c14aab88a54eeda5edfc5a08255f0d": {
     "model_module": "@jupyter-widgets/controls",
     "model_module_version": "1.5.0",
     "model_name": "HBoxModel",
     "state": {
      "_dom_classes": [],
      "_model_module": "@jupyter-widgets/controls",
      "_model_module_version": "1.5.0",
      "_model_name": "HBoxModel",
      "_view_count": null,
      "_view_module": "@jupyter-widgets/controls",
      "_view_module_version": "1.5.0",
      "_view_name": "HBoxView",
      "box_style": "",
      "children": [
       "IPY_MODEL_1d3af2c0795c4db58fde2ee7f2dd9341",
       "IPY_MODEL_b92acc9396594149bf27ec1d47e616fe",
       "IPY_MODEL_3a96712eb63040239c232d7ba93de876"
      ],
      "layout": "IPY_MODEL_8e76f659f1124624a88406663b2cbf60"
     }
    },
    "a6c838d1a5134c08b08f953272370f64": {
     "model_module": "@jupyter-widgets/controls",
     "model_module_version": "1.5.0",
     "model_name": "DescriptionStyleModel",
     "state": {
      "_model_module": "@jupyter-widgets/controls",
      "_model_module_version": "1.5.0",
      "_model_name": "DescriptionStyleModel",
      "_view_count": null,
      "_view_module": "@jupyter-widgets/base",
      "_view_module_version": "1.2.0",
      "_view_name": "StyleView",
      "description_width": ""
     }
    },
    "a6dd6f684efc4d8989586fb6d99e85c3": {
     "model_module": "@jupyter-widgets/base",
     "model_module_version": "1.2.0",
     "model_name": "LayoutModel",
     "state": {
      "_model_module": "@jupyter-widgets/base",
      "_model_module_version": "1.2.0",
      "_model_name": "LayoutModel",
      "_view_count": null,
      "_view_module": "@jupyter-widgets/base",
      "_view_module_version": "1.2.0",
      "_view_name": "LayoutView",
      "align_content": null,
      "align_items": null,
      "align_self": null,
      "border": null,
      "bottom": null,
      "display": null,
      "flex": null,
      "flex_flow": null,
      "grid_area": null,
      "grid_auto_columns": null,
      "grid_auto_flow": null,
      "grid_auto_rows": null,
      "grid_column": null,
      "grid_gap": null,
      "grid_row": null,
      "grid_template_areas": null,
      "grid_template_columns": null,
      "grid_template_rows": null,
      "height": null,
      "justify_content": null,
      "justify_items": null,
      "left": null,
      "margin": null,
      "max_height": null,
      "max_width": null,
      "min_height": null,
      "min_width": null,
      "object_fit": null,
      "object_position": null,
      "order": null,
      "overflow": null,
      "overflow_x": null,
      "overflow_y": null,
      "padding": null,
      "right": null,
      "top": null,
      "visibility": null,
      "width": null
     }
    },
    "a969a0b9e58446aa932af524d8d6134f": {
     "model_module": "@jupyter-widgets/base",
     "model_module_version": "1.2.0",
     "model_name": "LayoutModel",
     "state": {
      "_model_module": "@jupyter-widgets/base",
      "_model_module_version": "1.2.0",
      "_model_name": "LayoutModel",
      "_view_count": null,
      "_view_module": "@jupyter-widgets/base",
      "_view_module_version": "1.2.0",
      "_view_name": "LayoutView",
      "align_content": null,
      "align_items": null,
      "align_self": null,
      "border": null,
      "bottom": null,
      "display": null,
      "flex": null,
      "flex_flow": null,
      "grid_area": null,
      "grid_auto_columns": null,
      "grid_auto_flow": null,
      "grid_auto_rows": null,
      "grid_column": null,
      "grid_gap": null,
      "grid_row": null,
      "grid_template_areas": null,
      "grid_template_columns": null,
      "grid_template_rows": null,
      "height": null,
      "justify_content": null,
      "justify_items": null,
      "left": null,
      "margin": null,
      "max_height": null,
      "max_width": null,
      "min_height": null,
      "min_width": null,
      "object_fit": null,
      "object_position": null,
      "order": null,
      "overflow": null,
      "overflow_x": null,
      "overflow_y": null,
      "padding": null,
      "right": null,
      "top": null,
      "visibility": null,
      "width": null
     }
    },
    "af93c1088f074010a166fe9b3c3de715": {
     "model_module": "@jupyter-widgets/base",
     "model_module_version": "1.2.0",
     "model_name": "LayoutModel",
     "state": {
      "_model_module": "@jupyter-widgets/base",
      "_model_module_version": "1.2.0",
      "_model_name": "LayoutModel",
      "_view_count": null,
      "_view_module": "@jupyter-widgets/base",
      "_view_module_version": "1.2.0",
      "_view_name": "LayoutView",
      "align_content": null,
      "align_items": null,
      "align_self": null,
      "border": null,
      "bottom": null,
      "display": null,
      "flex": null,
      "flex_flow": null,
      "grid_area": null,
      "grid_auto_columns": null,
      "grid_auto_flow": null,
      "grid_auto_rows": null,
      "grid_column": null,
      "grid_gap": null,
      "grid_row": null,
      "grid_template_areas": null,
      "grid_template_columns": null,
      "grid_template_rows": null,
      "height": null,
      "justify_content": null,
      "justify_items": null,
      "left": null,
      "margin": null,
      "max_height": null,
      "max_width": null,
      "min_height": null,
      "min_width": null,
      "object_fit": null,
      "object_position": null,
      "order": null,
      "overflow": null,
      "overflow_x": null,
      "overflow_y": null,
      "padding": null,
      "right": null,
      "top": null,
      "visibility": null,
      "width": null
     }
    },
    "afaaa70c939f42be8a563d1933e9d414": {
     "model_module": "@jupyter-widgets/controls",
     "model_module_version": "1.5.0",
     "model_name": "DescriptionStyleModel",
     "state": {
      "_model_module": "@jupyter-widgets/controls",
      "_model_module_version": "1.5.0",
      "_model_name": "DescriptionStyleModel",
      "_view_count": null,
      "_view_module": "@jupyter-widgets/base",
      "_view_module_version": "1.2.0",
      "_view_name": "StyleView",
      "description_width": ""
     }
    },
    "b324916ce9a34d99b19098ffe3376617": {
     "model_module": "@jupyter-widgets/controls",
     "model_module_version": "1.5.0",
     "model_name": "HTMLModel",
     "state": {
      "_dom_classes": [],
      "_model_module": "@jupyter-widgets/controls",
      "_model_module_version": "1.5.0",
      "_model_name": "HTMLModel",
      "_view_count": null,
      "_view_module": "@jupyter-widgets/controls",
      "_view_module_version": "1.5.0",
      "_view_name": "HTMLView",
      "description": "",
      "description_tooltip": null,
      "layout": "IPY_MODEL_fae2bc05c68a4e248fb9f1bc3d36dd5d",
      "placeholder": "​",
      "style": "IPY_MODEL_a6c838d1a5134c08b08f953272370f64",
      "value": " 311/311 [17:05&lt;00:00,  3.29s/it]"
     }
    },
    "b92acc9396594149bf27ec1d47e616fe": {
     "model_module": "@jupyter-widgets/controls",
     "model_module_version": "1.5.0",
     "model_name": "FloatProgressModel",
     "state": {
      "_dom_classes": [],
      "_model_module": "@jupyter-widgets/controls",
      "_model_module_version": "1.5.0",
      "_model_name": "FloatProgressModel",
      "_view_count": null,
      "_view_module": "@jupyter-widgets/controls",
      "_view_module_version": "1.5.0",
      "_view_name": "ProgressView",
      "bar_style": "success",
      "description": "",
      "description_tooltip": null,
      "layout": "IPY_MODEL_1c6e6e81041440828e698c36c35f5701",
      "max": 112,
      "min": 0,
      "orientation": "horizontal",
      "style": "IPY_MODEL_5ea6369abd7d4199bea283c7543fba3b",
      "value": 112
     }
    },
    "ba2fd2020f264ffb95a6dc8bbf1482a9": {
     "model_module": "@jupyter-widgets/controls",
     "model_module_version": "1.5.0",
     "model_name": "FloatProgressModel",
     "state": {
      "_dom_classes": [],
      "_model_module": "@jupyter-widgets/controls",
      "_model_module_version": "1.5.0",
      "_model_name": "FloatProgressModel",
      "_view_count": null,
      "_view_module": "@jupyter-widgets/controls",
      "_view_module_version": "1.5.0",
      "_view_name": "ProgressView",
      "bar_style": "success",
      "description": "",
      "description_tooltip": null,
      "layout": "IPY_MODEL_4f9b08dcbfc64fb68196f2447926eac1",
      "max": 438033929,
      "min": 0,
      "orientation": "horizontal",
      "style": "IPY_MODEL_5653482339bb4920b476a925223303d5",
      "value": 438033929
     }
    },
    "bbfc42082d8d4d22a7a992486f9f62ed": {
     "model_module": "@jupyter-widgets/base",
     "model_module_version": "1.2.0",
     "model_name": "LayoutModel",
     "state": {
      "_model_module": "@jupyter-widgets/base",
      "_model_module_version": "1.2.0",
      "_model_name": "LayoutModel",
      "_view_count": null,
      "_view_module": "@jupyter-widgets/base",
      "_view_module_version": "1.2.0",
      "_view_name": "LayoutView",
      "align_content": null,
      "align_items": null,
      "align_self": null,
      "border": null,
      "bottom": null,
      "display": null,
      "flex": null,
      "flex_flow": null,
      "grid_area": null,
      "grid_auto_columns": null,
      "grid_auto_flow": null,
      "grid_auto_rows": null,
      "grid_column": null,
      "grid_gap": null,
      "grid_row": null,
      "grid_template_areas": null,
      "grid_template_columns": null,
      "grid_template_rows": null,
      "height": null,
      "justify_content": null,
      "justify_items": null,
      "left": null,
      "margin": null,
      "max_height": null,
      "max_width": null,
      "min_height": null,
      "min_width": null,
      "object_fit": null,
      "object_position": null,
      "order": null,
      "overflow": null,
      "overflow_x": null,
      "overflow_y": null,
      "padding": null,
      "right": null,
      "top": null,
      "visibility": null,
      "width": null
     }
    },
    "c0a335c4c915475d8fdd38152ff5bb54": {
     "model_module": "@jupyter-widgets/controls",
     "model_module_version": "1.5.0",
     "model_name": "ProgressStyleModel",
     "state": {
      "_model_module": "@jupyter-widgets/controls",
      "_model_module_version": "1.5.0",
      "_model_name": "ProgressStyleModel",
      "_view_count": null,
      "_view_module": "@jupyter-widgets/base",
      "_view_module_version": "1.2.0",
      "_view_name": "StyleView",
      "bar_color": null,
      "description_width": ""
     }
    },
    "c4373f4138df458eb06eddb9dc386313": {
     "model_module": "@jupyter-widgets/controls",
     "model_module_version": "1.5.0",
     "model_name": "DescriptionStyleModel",
     "state": {
      "_model_module": "@jupyter-widgets/controls",
      "_model_module_version": "1.5.0",
      "_model_name": "DescriptionStyleModel",
      "_view_count": null,
      "_view_module": "@jupyter-widgets/base",
      "_view_module_version": "1.2.0",
      "_view_name": "StyleView",
      "description_width": ""
     }
    },
    "c48110fa65f84c51a11a919251a49785": {
     "model_module": "@jupyter-widgets/controls",
     "model_module_version": "1.5.0",
     "model_name": "DescriptionStyleModel",
     "state": {
      "_model_module": "@jupyter-widgets/controls",
      "_model_module_version": "1.5.0",
      "_model_name": "DescriptionStyleModel",
      "_view_count": null,
      "_view_module": "@jupyter-widgets/base",
      "_view_module_version": "1.2.0",
      "_view_name": "StyleView",
      "description_width": ""
     }
    },
    "c6f9f054a7c94ea397049ef7d76e45e0": {
     "model_module": "@jupyter-widgets/controls",
     "model_module_version": "1.5.0",
     "model_name": "HTMLModel",
     "state": {
      "_dom_classes": [],
      "_model_module": "@jupyter-widgets/controls",
      "_model_module_version": "1.5.0",
      "_model_name": "HTMLModel",
      "_view_count": null,
      "_view_module": "@jupyter-widgets/controls",
      "_view_module_version": "1.5.0",
      "_view_name": "HTMLView",
      "description": "",
      "description_tooltip": null,
      "layout": "IPY_MODEL_6e172f02206c45e1b55b1da5b7281844",
      "placeholder": "​",
      "style": "IPY_MODEL_43ac93364d424278941592fc732ba45d",
      "value": " 438M/438M [00:02&lt;00:00, 143MB/s]"
     }
    },
    "cdb170496a804fd59a3eef2c589e5766": {
     "model_module": "@jupyter-widgets/controls",
     "model_module_version": "1.5.0",
     "model_name": "FloatProgressModel",
     "state": {
      "_dom_classes": [],
      "_model_module": "@jupyter-widgets/controls",
      "_model_module_version": "1.5.0",
      "_model_name": "FloatProgressModel",
      "_view_count": null,
      "_view_module": "@jupyter-widgets/controls",
      "_view_module_version": "1.5.0",
      "_view_name": "ProgressView",
      "bar_style": "success",
      "description": "",
      "description_tooltip": null,
      "layout": "IPY_MODEL_41d0674b85934e8d8aa4a03b31d30479",
      "max": 311,
      "min": 0,
      "orientation": "horizontal",
      "style": "IPY_MODEL_6706edaa34ce40ecb7bc32276b864317",
      "value": 311
     }
    },
    "d1c3a94e21d042a1b449f0a98904cf05": {
     "model_module": "@jupyter-widgets/controls",
     "model_module_version": "1.5.0",
     "model_name": "DescriptionStyleModel",
     "state": {
      "_model_module": "@jupyter-widgets/controls",
      "_model_module_version": "1.5.0",
      "_model_name": "DescriptionStyleModel",
      "_view_count": null,
      "_view_module": "@jupyter-widgets/base",
      "_view_module_version": "1.2.0",
      "_view_name": "StyleView",
      "description_width": ""
     }
    },
    "d28ad35ede7c45eca684b4b3b5b6c271": {
     "model_module": "@jupyter-widgets/controls",
     "model_module_version": "1.5.0",
     "model_name": "ProgressStyleModel",
     "state": {
      "_model_module": "@jupyter-widgets/controls",
      "_model_module_version": "1.5.0",
      "_model_name": "ProgressStyleModel",
      "_view_count": null,
      "_view_module": "@jupyter-widgets/base",
      "_view_module_version": "1.2.0",
      "_view_name": "StyleView",
      "bar_color": null,
      "description_width": ""
     }
    },
    "d63493a2ba1e4ebb98861fa75e9e3f7e": {
     "model_module": "@jupyter-widgets/controls",
     "model_module_version": "1.5.0",
     "model_name": "DescriptionStyleModel",
     "state": {
      "_model_module": "@jupyter-widgets/controls",
      "_model_module_version": "1.5.0",
      "_model_name": "DescriptionStyleModel",
      "_view_count": null,
      "_view_module": "@jupyter-widgets/base",
      "_view_module_version": "1.2.0",
      "_view_name": "StyleView",
      "description_width": ""
     }
    },
    "d781eb1502ef408cb91e9e9feb84c734": {
     "model_module": "@jupyter-widgets/base",
     "model_module_version": "1.2.0",
     "model_name": "LayoutModel",
     "state": {
      "_model_module": "@jupyter-widgets/base",
      "_model_module_version": "1.2.0",
      "_model_name": "LayoutModel",
      "_view_count": null,
      "_view_module": "@jupyter-widgets/base",
      "_view_module_version": "1.2.0",
      "_view_name": "LayoutView",
      "align_content": null,
      "align_items": null,
      "align_self": null,
      "border": null,
      "bottom": null,
      "display": null,
      "flex": null,
      "flex_flow": null,
      "grid_area": null,
      "grid_auto_columns": null,
      "grid_auto_flow": null,
      "grid_auto_rows": null,
      "grid_column": null,
      "grid_gap": null,
      "grid_row": null,
      "grid_template_areas": null,
      "grid_template_columns": null,
      "grid_template_rows": null,
      "height": null,
      "justify_content": null,
      "justify_items": null,
      "left": null,
      "margin": null,
      "max_height": null,
      "max_width": null,
      "min_height": null,
      "min_width": null,
      "object_fit": null,
      "object_position": null,
      "order": null,
      "overflow": null,
      "overflow_x": null,
      "overflow_y": null,
      "padding": null,
      "right": null,
      "top": null,
      "visibility": null,
      "width": null
     }
    },
    "dc14e2150c87438ba6bd5f923e331625": {
     "model_module": "@jupyter-widgets/base",
     "model_module_version": "1.2.0",
     "model_name": "LayoutModel",
     "state": {
      "_model_module": "@jupyter-widgets/base",
      "_model_module_version": "1.2.0",
      "_model_name": "LayoutModel",
      "_view_count": null,
      "_view_module": "@jupyter-widgets/base",
      "_view_module_version": "1.2.0",
      "_view_name": "LayoutView",
      "align_content": null,
      "align_items": null,
      "align_self": null,
      "border": null,
      "bottom": null,
      "display": null,
      "flex": null,
      "flex_flow": null,
      "grid_area": null,
      "grid_auto_columns": null,
      "grid_auto_flow": null,
      "grid_auto_rows": null,
      "grid_column": null,
      "grid_gap": null,
      "grid_row": null,
      "grid_template_areas": null,
      "grid_template_columns": null,
      "grid_template_rows": null,
      "height": null,
      "justify_content": null,
      "justify_items": null,
      "left": null,
      "margin": null,
      "max_height": null,
      "max_width": null,
      "min_height": null,
      "min_width": null,
      "object_fit": null,
      "object_position": null,
      "order": null,
      "overflow": null,
      "overflow_x": null,
      "overflow_y": null,
      "padding": null,
      "right": null,
      "top": null,
      "visibility": null,
      "width": null
     }
    },
    "e2f2d76b722c4660ae32ec394a774294": {
     "model_module": "@jupyter-widgets/controls",
     "model_module_version": "1.5.0",
     "model_name": "HTMLModel",
     "state": {
      "_dom_classes": [],
      "_model_module": "@jupyter-widgets/controls",
      "_model_module_version": "1.5.0",
      "_model_name": "HTMLModel",
      "_view_count": null,
      "_view_module": "@jupyter-widgets/controls",
      "_view_module_version": "1.5.0",
      "_view_name": "HTMLView",
      "description": "",
      "description_tooltip": null,
      "layout": "IPY_MODEL_638b6b213cf5434faee8f2801c9d6c4a",
      "placeholder": "​",
      "style": "IPY_MODEL_e7e002cd068f4c208222bddc32f49e9c",
      "value": " 232k/232k [00:00&lt;00:00, 936kB/s]"
     }
    },
    "e4dbd63f278b4bec98a0a04d32f1ee76": {
     "model_module": "@jupyter-widgets/base",
     "model_module_version": "1.2.0",
     "model_name": "LayoutModel",
     "state": {
      "_model_module": "@jupyter-widgets/base",
      "_model_module_version": "1.2.0",
      "_model_name": "LayoutModel",
      "_view_count": null,
      "_view_module": "@jupyter-widgets/base",
      "_view_module_version": "1.2.0",
      "_view_name": "LayoutView",
      "align_content": null,
      "align_items": null,
      "align_self": null,
      "border": null,
      "bottom": null,
      "display": null,
      "flex": null,
      "flex_flow": null,
      "grid_area": null,
      "grid_auto_columns": null,
      "grid_auto_flow": null,
      "grid_auto_rows": null,
      "grid_column": null,
      "grid_gap": null,
      "grid_row": null,
      "grid_template_areas": null,
      "grid_template_columns": null,
      "grid_template_rows": null,
      "height": null,
      "justify_content": null,
      "justify_items": null,
      "left": null,
      "margin": null,
      "max_height": null,
      "max_width": null,
      "min_height": null,
      "min_width": null,
      "object_fit": null,
      "object_position": null,
      "order": null,
      "overflow": null,
      "overflow_x": null,
      "overflow_y": null,
      "padding": null,
      "right": null,
      "top": null,
      "visibility": null,
      "width": null
     }
    },
    "e6963f928b51464b87a8724897a134f1": {
     "model_module": "@jupyter-widgets/base",
     "model_module_version": "1.2.0",
     "model_name": "LayoutModel",
     "state": {
      "_model_module": "@jupyter-widgets/base",
      "_model_module_version": "1.2.0",
      "_model_name": "LayoutModel",
      "_view_count": null,
      "_view_module": "@jupyter-widgets/base",
      "_view_module_version": "1.2.0",
      "_view_name": "LayoutView",
      "align_content": null,
      "align_items": null,
      "align_self": null,
      "border": null,
      "bottom": null,
      "display": null,
      "flex": null,
      "flex_flow": null,
      "grid_area": null,
      "grid_auto_columns": null,
      "grid_auto_flow": null,
      "grid_auto_rows": null,
      "grid_column": null,
      "grid_gap": null,
      "grid_row": null,
      "grid_template_areas": null,
      "grid_template_columns": null,
      "grid_template_rows": null,
      "height": null,
      "justify_content": null,
      "justify_items": null,
      "left": null,
      "margin": null,
      "max_height": null,
      "max_width": null,
      "min_height": null,
      "min_width": null,
      "object_fit": null,
      "object_position": null,
      "order": null,
      "overflow": null,
      "overflow_x": null,
      "overflow_y": null,
      "padding": null,
      "right": null,
      "top": null,
      "visibility": null,
      "width": null
     }
    },
    "e7e002cd068f4c208222bddc32f49e9c": {
     "model_module": "@jupyter-widgets/controls",
     "model_module_version": "1.5.0",
     "model_name": "DescriptionStyleModel",
     "state": {
      "_model_module": "@jupyter-widgets/controls",
      "_model_module_version": "1.5.0",
      "_model_name": "DescriptionStyleModel",
      "_view_count": null,
      "_view_module": "@jupyter-widgets/base",
      "_view_module_version": "1.2.0",
      "_view_name": "StyleView",
      "description_width": ""
     }
    },
    "e8007d5b1ee24e6190ba18c5abe276d7": {
     "model_module": "@jupyter-widgets/controls",
     "model_module_version": "1.5.0",
     "model_name": "HBoxModel",
     "state": {
      "_dom_classes": [],
      "_model_module": "@jupyter-widgets/controls",
      "_model_module_version": "1.5.0",
      "_model_name": "HBoxModel",
      "_view_count": null,
      "_view_module": "@jupyter-widgets/controls",
      "_view_module_version": "1.5.0",
      "_view_name": "HBoxView",
      "box_style": "",
      "children": [
       "IPY_MODEL_0488301bd13c4af6b2a92da8be8c92ea",
       "IPY_MODEL_62e7ceb7f4ea43229c7d60c6948615b8",
       "IPY_MODEL_3652d93c62854be5b92f2b8c760b4918"
      ],
      "layout": "IPY_MODEL_a969a0b9e58446aa932af524d8d6134f"
     }
    },
    "f46b7e42501c47ca9cde6a839d0dc0df": {
     "model_module": "@jupyter-widgets/base",
     "model_module_version": "1.2.0",
     "model_name": "LayoutModel",
     "state": {
      "_model_module": "@jupyter-widgets/base",
      "_model_module_version": "1.2.0",
      "_model_name": "LayoutModel",
      "_view_count": null,
      "_view_module": "@jupyter-widgets/base",
      "_view_module_version": "1.2.0",
      "_view_name": "LayoutView",
      "align_content": null,
      "align_items": null,
      "align_self": null,
      "border": null,
      "bottom": null,
      "display": null,
      "flex": null,
      "flex_flow": null,
      "grid_area": null,
      "grid_auto_columns": null,
      "grid_auto_flow": null,
      "grid_auto_rows": null,
      "grid_column": null,
      "grid_gap": null,
      "grid_row": null,
      "grid_template_areas": null,
      "grid_template_columns": null,
      "grid_template_rows": null,
      "height": null,
      "justify_content": null,
      "justify_items": null,
      "left": null,
      "margin": null,
      "max_height": null,
      "max_width": null,
      "min_height": null,
      "min_width": null,
      "object_fit": null,
      "object_position": null,
      "order": null,
      "overflow": null,
      "overflow_x": null,
      "overflow_y": null,
      "padding": null,
      "right": null,
      "top": null,
      "visibility": null,
      "width": null
     }
    },
    "fae2bc05c68a4e248fb9f1bc3d36dd5d": {
     "model_module": "@jupyter-widgets/base",
     "model_module_version": "1.2.0",
     "model_name": "LayoutModel",
     "state": {
      "_model_module": "@jupyter-widgets/base",
      "_model_module_version": "1.2.0",
      "_model_name": "LayoutModel",
      "_view_count": null,
      "_view_module": "@jupyter-widgets/base",
      "_view_module_version": "1.2.0",
      "_view_name": "LayoutView",
      "align_content": null,
      "align_items": null,
      "align_self": null,
      "border": null,
      "bottom": null,
      "display": null,
      "flex": null,
      "flex_flow": null,
      "grid_area": null,
      "grid_auto_columns": null,
      "grid_auto_flow": null,
      "grid_auto_rows": null,
      "grid_column": null,
      "grid_gap": null,
      "grid_row": null,
      "grid_template_areas": null,
      "grid_template_columns": null,
      "grid_template_rows": null,
      "height": null,
      "justify_content": null,
      "justify_items": null,
      "left": null,
      "margin": null,
      "max_height": null,
      "max_width": null,
      "min_height": null,
      "min_width": null,
      "object_fit": null,
      "object_position": null,
      "order": null,
      "overflow": null,
      "overflow_x": null,
      "overflow_y": null,
      "padding": null,
      "right": null,
      "top": null,
      "visibility": null,
      "width": null
     }
    },
    "fcbc00b90e5e4f8d9785e1fdc5331a61": {
     "model_module": "@jupyter-widgets/controls",
     "model_module_version": "1.5.0",
     "model_name": "DescriptionStyleModel",
     "state": {
      "_model_module": "@jupyter-widgets/controls",
      "_model_module_version": "1.5.0",
      "_model_name": "DescriptionStyleModel",
      "_view_count": null,
      "_view_module": "@jupyter-widgets/base",
      "_view_module_version": "1.2.0",
      "_view_name": "StyleView",
      "description_width": ""
     }
    }
   }
  }
 },
 "nbformat": 4,
 "nbformat_minor": 1
}
